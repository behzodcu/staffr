{
 "cells": [
  {
   "cell_type": "code",
   "execution_count": 1,
   "metadata": {},
   "outputs": [],
   "source": [
    "import numpy as np\n",
    "import matplotlib.pyplot as plt\n",
    "from scipy.stats import norm, multinomial\n",
    "from sklearn.cluster import KMeans as km"
   ]
  },
  {
   "cell_type": "code",
   "execution_count": 2,
   "metadata": {},
   "outputs": [],
   "source": [
    "def plot_hw_model(X, n, pi, mu, sigma):\n",
    "    ax = plt.subplots(figsize = (6,6))[1]\n",
    "    plt.hist(X, alpha = 0.20, bins = max(X), color = 'grey', edgecolor = 'white', linewidth = 3)\n",
    "\n",
    "    curve2 = np.linspace(mu[0] - 10 * sigma[0], mu[0] + 10 * sigma[0], 1000)\n",
    "    curve3 = np.linspace(mu[1] - 10 * sigma[1], mu[1] + 10 * sigma[1], 1000)\n",
    "    plt.plot(curve2, n * norm.pdf(curve2, mu[0], sigma[0]) * pi[1], linewidth = 3, color='red')\n",
    "    plt.plot(curve3, n * norm.pdf(curve3, mu[1], sigma[1]) * pi[2], linewidth = 3, color='red')\n",
    "    plt.scatter(0, n * pi[0], color = 'red')\n",
    "\n",
    "    ax.set_yscale(\"log\") \n",
    "    ax.set_ylim(bottom=1)\n",
    "    ax.set_xlim(left=0)\n",
    "    plt.xlabel('Evidence Depth')\n",
    "    plt.ylabel('Number of Samples')\n",
    "    plt.show()"
   ]
  },
  {
   "cell_type": "code",
   "execution_count": 3,
   "metadata": {},
   "outputs": [],
   "source": [
    "def model_hw(X):\n",
    "\n",
    "    n = np.shape(X)[0] # length of data set\n",
    "    pi = [1.0/3 for _ in range(3)] # initial mixing coefficients\n",
    "    r = np.zeros([3,n]) # initial responsibility matrix\n",
    "    sigma = [np.std(X), np.std(X)] # initial standard deviation for normals\n",
    "    f = np.ravel(X).astype(float)\n",
    "    f=f.reshape(-1,1)\n",
    "    kmeans = km(n_init='auto',n_clusters=3) # k-means for initial means\n",
    "    kmeans.fit(f)\n",
    "    centers = np.sort(np.ravel(kmeans.cluster_centers_))\n",
    "    centers = np.delete(centers, 0) # care about modes 2 and 3\n",
    "    mu = centers\n",
    "    log_likelihoods = [] \n",
    "    distances = [] # distances between log-likelihoods\n",
    "    iteration = 0\n",
    "    distance = 1\n",
    "\n",
    "    while distance > (1/(n*10)): # tolerance\n",
    "\n",
    "        # expectation\n",
    "        r[0][X==0] = pi[0] # responsibility towards first component is just the zeros\n",
    "        r[0][X!=0] = 0\n",
    "        r[1] = pi[1] * norm.pdf(X, mu[0], sigma[0]) # responsibility of each value to second component\n",
    "        r[2] = pi[2] * norm.pdf(X, mu[1], sigma[1]) # responsibility of each value to third component\n",
    "        r = r / np.sum(r, axis = 0) # normalization\n",
    "\n",
    "        # maximization\n",
    "        pi = np.sum(r, axis = 1) / n # total responsibility of a component divided by total # of observations\n",
    "        for i, pi_i in enumerate(pi):\n",
    "            if pi_i < 0.01:\n",
    "                pi[i] = 0.01\n",
    "        mu[0] = np.average(X, weights = r[1]) # MLE for mean in normal distribution\n",
    "        mu[1] = np.average(X, weights = r[2]) # MLE for mean in normal distribution\n",
    "        mu[0] = (mu[0] + 0.5*mu[1])/2 # fixing 2mu_2 = mu_3\n",
    "        mu[1] = 2*mu[0]\n",
    "        for i, mu_i in enumerate(mu):\n",
    "            if mu_i < 0.01:\n",
    "                mu[i] = 0.01\n",
    "        sigma[0] = np.average((X-mu[0])**2, weights=r[1])**.5 # MLE for standard deviation in normal distribution\n",
    "        sigma[1] = np.average((X-mu[1])**2, weights=r[2])**.5 # MLE for standard deviation in normal distribution\n",
    "        for i, sigma_i in enumerate(sigma):\n",
    "            if sigma_i < 0.01:\n",
    "                sigma[i] = 0.01\n",
    "\n",
    "        # score\n",
    "        hurdle = np.where(X == 0, pi[0], 0) #  likelihood of each observation in hurdle model\n",
    "        gmm = pi[1] * norm.pdf(X, mu[0], sigma[0]) +  pi[2] * norm.pdf(X, mu[1], sigma[1])# likelihood of each observation in normal distribution\n",
    "        log_likelihood = np.sum(np.log(hurdle + gmm)) # sum of log of likelihood of each observation\n",
    "        log_likelihoods.append(log_likelihood) \n",
    "\n",
    "        iteration += 1\n",
    "        if iteration > 1:\n",
    "            distance = np.abs(log_likelihoods[-2]-log_likelihoods[-1]) # magnitude of difference between each \n",
    "            distances.append(distance)\n",
    "\n",
    "    return pi, mu, sigma, log_likelihood"
   ]
  },
  {
   "cell_type": "code",
   "execution_count": 4,
   "metadata": {},
   "outputs": [],
   "source": [
    "def theta_to_data(N, pi, mu_2, sigma):\n",
    "\n",
    "    draws = multinomial.rvs(n = N, p = pi)\n",
    "\n",
    "    X = [0 for _ in range(draws[0])]\n",
    "    X_g = norm.rvs(mu_2, sigma[0], size = draws[1])\n",
    "    X_g2 = norm.rvs(2 * mu_2, sigma[1], size = draws[2])\n",
    "\n",
    "    while sum(X_g < -0.5) > 0:\n",
    "        X_g_new = norm.rvs(mu_2, sigma[0], size = sum(X_g < -0.5))\n",
    "        X_g = [x for x in X_g if x >= -0.5]\n",
    "        X_g = np.concatenate((X_g, X_g_new))\n",
    "\n",
    "    while sum(X_g2 < -0.5) > 0:\n",
    "        X_g2_new = norm.rvs(2 * mu_2, sigma[1], size = sum(X_g2 < -0.5))\n",
    "        X_g2 = [x for x in X_g2 if x >= -0.5]\n",
    "        X_g2 = np.concatenate((X_g2, X_g2_new))\n",
    "\n",
    "    X = np.concatenate((X,X_g))\n",
    "    X = np.concatenate((X,X_g2))\n",
    "    X = np.round(X).astype(int)\n",
    "\n",
    "    return X"
   ]
  },
  {
   "cell_type": "code",
   "execution_count": 5,
   "metadata": {},
   "outputs": [
    {
     "data": {
      "image/png": "[encoded data removed]",
      "text/plain": [
       "<Figure size 432x432 with 1 Axes>"
      ]
     },
     "metadata": {
      "needs_background": "light"
     },
     "output_type": "display_data"
    }
   ],
   "source": [
    "N = 1000\n",
    "pi = [1/3, 1/3, 1/3]\n",
    "mu_2 = 5\n",
    "sigma = [3, 3]\n",
    "\n",
    "X = theta_to_data(N, pi, mu_2, sigma)\n",
    "\n",
    "pi_hat, mu_hat, sigma_hat, log_likelihood = model_hw(X)\n",
    "plot_hw_model(X, N, pi_hat, mu_hat, sigma_hat)"
   ]
  }
 ],
 "metadata": {
  "kernelspec": {
   "display_name": "base",
   "language": "python",
   "name": "python3"
  },
  "language_info": {
   "codemirror_mode": {
    "name": "ipython",
    "version": 3
   },
   "file_extension": ".py",
   "mimetype": "text/x-python",
   "name": "python",
   "nbconvert_exporter": "python",
   "pygments_lexer": "ipython3",
   "version": "3.8.8"
  }
 },
 "nbformat": 4,
 "nbformat_minor": 2
}
