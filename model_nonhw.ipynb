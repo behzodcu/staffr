{
 "cells": [
  {
   "cell_type": "code",
   "execution_count": 1,
   "metadata": {},
   "outputs": [],
   "source": [
    "import numpy as np\n",
    "import matplotlib.pyplot as plt\n",
    "from scipy.stats import geom, expon, multinomial\n",
    "from sklearn.cluster import KMeans as km"
   ]
  },
  {
   "cell_type": "code",
   "execution_count": 2,
   "metadata": {},
   "outputs": [],
   "source": [
    "def plot_nonhw_model(X, n, alpha, lambda_):\n",
    "    ax = plt.subplots(figsize = (6,6))[1]\n",
    "    plt.hist(X, alpha = 0.20, bins = max(X), color = 'grey', edgecolor = 'white', linewidth = 3) # plot histogram of input data set\n",
    "\n",
    "    curve1 = np.linspace(1, 10 * lambda_, 1000)\n",
    "    plt.plot(curve1, n * expon.pdf(curve1, loc = 1, scale = lambda_) * (1-alpha), linewidth = 3, color = 'red')\n",
    "    plt.scatter(0, n * alpha, color = 'red')\n",
    "\n",
    "    ax.set_yscale(\"log\") \n",
    "    ax.set_ylim(bottom=1)\n",
    "    ax.set_xlim(left=0)\n",
    "    plt.xlabel('Evidence Depth')\n",
    "    plt.ylabel('Number of Samples')\n",
    "    plt.show()"
   ]
  },
  {
   "cell_type": "code",
   "execution_count": 3,
   "metadata": {},
   "outputs": [],
   "source": [
    "def nonhw_model(X):\n",
    "\n",
    "    n = np.shape(X)[0] # length of data set\n",
    "    r = np.zeros([3,n]) # responsibility matrix\n",
    "    alpha = np.sum(X == 0) / n # probability of an observation belonging to zero component\n",
    "    lambda_ = n / np.sum(X != 0) # expected value of the geometric distribution\n",
    "    log_likelihoods = []\n",
    "    iteration = 0\n",
    "    distance = 1\n",
    "\n",
    "    while distance > (1/(n*10)): # convergence criterion\n",
    "\n",
    "        # expectation\n",
    "        r[0][X==0] = alpha # responsibility of zero values to first mode\n",
    "        r[0][X!=0] = (1-alpha) * geom.pmf(X[X!=0], 1/lambda_) # responsibility of nonzero values to first component\n",
    "        r = r / np.sum(r, axis = 0) # normalization\n",
    "\n",
    "        # maximization\n",
    "        alpha = np.sum(r[0][X==0]) / np.sum(r[0]) # MLE for \n",
    "        lambda_ = np.dot(X[X != 0], r[0][X != 0]) / ((1-alpha)*np.sum(r[0])) # reciprocal of MLE for p in geometric distribution\n",
    "        lambda_ = 6 if lambda_ > 6 else lambda_\n",
    "\n",
    "        # score\n",
    "        hurdle = np.where(X == 0, alpha, (1-alpha) * geom.pmf(X,1/lambda_)) #  likelihood of each observation in hurdle model\n",
    "        log_likelihood = np.sum(np.log(hurdle)) # sum of log of likelihood of each observation\n",
    "        log_likelihoods.append(log_likelihood) \n",
    "\n",
    "        iteration += 1\n",
    "        if iteration > 1:\n",
    "            distance = np.abs(log_likelihoods[-2]-log_likelihoods[-1]) # magnitude of difference between each \n",
    "\n",
    "    return alpha, lambda_,log_likelihoods[-1]"
   ]
  },
  {
   "cell_type": "code",
   "execution_count": 4,
   "metadata": {},
   "outputs": [],
   "source": [
    "def psi_to_data(N, alpha, lambda_):\n",
    "\n",
    "    draws = multinomial.rvs(n = N, p = [alpha, 1 - alpha])\n",
    "\n",
    "    X = [0 for _ in range(draws[0])]\n",
    "    X_l = geom.rvs(1/lambda_, size = draws[1])\n",
    "\n",
    "    X = np.concatenate((X,X_l))\n",
    "    X = np.round(X).astype(int)\n",
    "\n",
    "    return X"
   ]
  },
  {
   "cell_type": "code",
   "execution_count": 5,
   "metadata": {},
   "outputs": [
    {
     "data": {
      "image/png": "[encoded data removed]",
      "text/plain": [
       "<Figure size 432x432 with 1 Axes>"
      ]
     },
     "metadata": {
      "needs_background": "light"
     },
     "output_type": "display_data"
    },
    {
     "name": "stdout",
     "output_type": "stream",
     "text": [
      "0.901 5\n"
     ]
    }
   ],
   "source": [
    "N = 1000\n",
    "alpha = .9\n",
    "lambda_ = 5\n",
    "\n",
    "X = psi_to_data(N, alpha, lambda_)\n",
    "\n",
    "alpha_hat, lambda_hat, log_likelihood = nonhw_model(X)\n",
    "plot_nonhw_model(X, N, alpha_hat, lambda_hat)\n",
    "print(alpha_hat, lambda_hat)"
   ]
  }
 ],
 "metadata": {
  "kernelspec": {
   "display_name": "base",
   "language": "python",
   "name": "python3"
  },
  "language_info": {
   "codemirror_mode": {
    "name": "ipython",
    "version": 3
   },
   "file_extension": ".py",
   "mimetype": "text/x-python",
   "name": "python",
   "nbconvert_exporter": "python",
   "pygments_lexer": "ipython3",
   "version": "3.8.8"
  }
 },
 "nbformat": 4,
 "nbformat_minor": 2
}
