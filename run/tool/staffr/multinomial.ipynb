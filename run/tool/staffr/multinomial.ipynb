{
 "cells": [
  {
   "cell_type": "code",
   "execution_count": 1,
   "metadata": {},
   "outputs": [],
   "source": [
    "from pandas import read_csv\n",
    "from scipy.stats import geom, norm, multinomial, binom\n",
    "import matplotlib.pyplot as plt \n",
    "import numpy as np"
   ]
  },
  {
   "cell_type": "code",
   "execution_count": 2,
   "metadata": {},
   "outputs": [],
   "source": [
    "def theta_to_data(N, pi, alpha, lambda_, mu_2, sigma):\n",
    "    X = [0 for _ in range(int(pi[0] * N * alpha))] # generating zeros\n",
    "    X_l = geom.rvs(1/lambda_, size=(int(pi[0] * N * (1-alpha)))) # generating observations following geometric \n",
    "    X.extend(X_l)\n",
    "\n",
    "    X_g = norm.rvs(mu_2, sigma[0], size =(int(pi[1] * N))) # generating observations following normal\n",
    "    X_g = [round(g) for g in X_g] # converting to integers\n",
    "    X.extend(X_g)\n",
    "\n",
    "    X_g2 = norm.rvs(2*mu_2, sigma[1], size =(int(pi[2] * N))) # generating observations following normal\n",
    "    X_g2 = [round(g) for g in X_g2] # converting to integers\n",
    "    X.extend(X_g2)\n",
    "\n",
    "    X = np.array(X)\n",
    "    return X\n",
    "\n",
    "# draw from the multinomial distribution using the pi vector\n",
    "# round and then redraw to drop the zeroes, count zeros and then redraw\n",
    "# sanity check, if any values are less than zero, then break"
   ]
  },
  {
   "cell_type": "code",
   "execution_count": 3,
   "metadata": {},
   "outputs": [
    {
     "ename": "AssertionError",
     "evalue": "",
     "output_type": "error",
     "traceback": [
      "\u001b[0;31m---------------------------------------------------------------------------\u001b[0m",
      "\u001b[0;31mAssertionError\u001b[0m                            Traceback (most recent call last)",
      "\u001b[1;32m/Users/behzod/Downloads/research/mod_nb/testing/multinomial.ipynb Cell 3\u001b[0m in \u001b[0;36m<module>\u001b[0;34m\u001b[0m\n\u001b[1;32m      <a href='vscode-notebook-cell:/Users/behzod/Downloads/research/mod_nb/testing/multinomial.ipynb#W2sZmlsZQ%3D%3D?line=0'>1</a>\u001b[0m X \u001b[39m=\u001b[39m theta_to_data(\u001b[39m1000\u001b[39m, [\u001b[39m1\u001b[39m\u001b[39m/\u001b[39m\u001b[39m3\u001b[39m, \u001b[39m1\u001b[39m\u001b[39m/\u001b[39m\u001b[39m3\u001b[39m, \u001b[39m1\u001b[39m\u001b[39m/\u001b[39m\u001b[39m3\u001b[39m], \u001b[39m0.5\u001b[39m, \u001b[39m3\u001b[39m, \u001b[39m5\u001b[39m, [\u001b[39m3\u001b[39m, \u001b[39m3\u001b[39m])\n\u001b[0;32m----> <a href='vscode-notebook-cell:/Users/behzod/Downloads/research/mod_nb/testing/multinomial.ipynb#W2sZmlsZQ%3D%3D?line=1'>2</a>\u001b[0m \u001b[39massert\u001b[39;00m(\u001b[39m0\u001b[39m \u001b[39m==\u001b[39m \u001b[39msum\u001b[39m(X \u001b[39m<\u001b[39m \u001b[39m0\u001b[39m))\n\u001b[1;32m      <a href='vscode-notebook-cell:/Users/behzod/Downloads/research/mod_nb/testing/multinomial.ipynb#W2sZmlsZQ%3D%3D?line=2'>3</a>\u001b[0m \u001b[39mprint\u001b[39m(X)\n",
      "\u001b[0;31mAssertionError\u001b[0m: "
     ]
    }
   ],
   "source": [
    "X = theta_to_data(1000, [1/3, 1/3, 1/3], 0.5, 3, 5, [3, 3])\n",
    "assert(0 == sum(X < 0))\n",
    "print(X)"
   ]
  },
  {
   "cell_type": "code",
   "execution_count": 2,
   "metadata": {},
   "outputs": [],
   "source": [
    "def theta_to_data(N, pi, alpha, lambda_, mu_2, sigma):\n",
    "\n",
    "    draws = multinomial.rvs(n = N, p = pi)\n",
    "    draws_alpha = multinomial.rvs(n = draws[0], p = [alpha, 1 - alpha])\n",
    "\n",
    "    X = [0 for _ in range(draws_alpha[0])]\n",
    "    X_l = geom.rvs(1/lambda_, size = draws_alpha[1])\n",
    "    X_g = norm.rvs(mu_2, sigma[0], size = draws[1])\n",
    "    X_g2 = norm.rvs(2 * mu_2, sigma[1], size = draws[2])\n",
    "\n",
    "    while sum(X_g < 0) > 0:\n",
    "        X_g_new = norm.rvs(mu_2, sigma[0], size = sum(X_g < 0))\n",
    "        X_g = [x for x in X_g if x >= 0]\n",
    "        X_g = np.concatenate((X_g, X_g_new))\n",
    "\n",
    "    while sum(X_g2 < 0) > 0:\n",
    "        X_g2_new = norm.rvs(2 * mu_2, sigma[1], size = sum(X_g2 < 0))\n",
    "        X_g2 = [x for x in X_g2 if x >= 0]\n",
    "        X_g2 = np.concatenate((X_g2, X_g2_new))\n",
    "\n",
    "    X = np.concatenate((X,X_l))\n",
    "    X = np.concatenate((X,X_g))\n",
    "    X = np.concatenate((X,X_g2))\n",
    "    X = np.round(X)\n",
    "\n",
    "    return X"
   ]
  },
  {
   "cell_type": "code",
   "execution_count": 3,
   "metadata": {},
   "outputs": [
    {
     "name": "stdout",
     "output_type": "stream",
     "text": [
      "[ 0.  0.  0.  0.  0.  0.  0.  0.  0.  0.  0.  0.  0.  0.  0.  0.  0.  0.\n",
      "  0.  0.  0.  0.  0.  0.  0.  0.  0.  0.  0.  0.  0.  0.  0.  0.  0.  0.\n",
      "  0.  0.  0.  0.  0.  0.  0.  0.  0.  0.  0.  0.  0.  0.  0.  0.  0.  0.\n",
      "  0.  0.  0.  0.  0.  0.  0.  0.  0.  0.  0.  0.  0.  0.  0.  0.  0.  0.\n",
      "  0.  0.  0.  0.  0.  0.  0.  0.  0.  0.  0.  0.  0.  0.  0.  0.  0.  0.\n",
      "  0.  0.  0.  0.  0.  0.  0.  0.  0.  0.  0.  0.  0.  0.  0.  0.  0.  0.\n",
      "  0.  0.  0.  0.  0.  0.  0.  0.  0.  0.  0.  0.  0.  0.  0.  0.  0.  0.\n",
      "  0.  0.  0.  0.  0.  0.  0.  0.  0.  0.  0.  0.  0.  0.  0.  0.  0.  0.\n",
      "  0.  0.  0.  0.  0.  0.  0.  0.  0.  0.  0.  0.  0.  0.  0.  0.  0.  0.\n",
      "  0.  0.  0.  0.  0.  0.  0.  0.  0.  0.  0.  0.  0.  0.  0.  0.  2.  6.\n",
      "  4.  3.  2.  3.  1.  4.  1.  1.  1.  3.  3.  1.  5.  1.  2.  1.  2.  5.\n",
      " 15.  2.  8.  7.  2.  2.  8.  1.  5.  4.  2.  1.  1.  4.  1.  5.  4. 13.\n",
      "  4.  2.  8.  1.  2.  5.  5.  2.  5.  2.  1. 17.  2.  4.  1.  2.  2.  1.\n",
      "  1.  1.  1.  1.  1.  1.  2.  4.  1.  5.  2.  3.  8.  3.  4.  3.  2.  6.\n",
      "  2.  5.  3.  4.  1.  2.  2.  2.  1.  1.  4.  1.  5.  5.  1.  4.  2.  2.\n",
      "  1.  1.  2.  5.  1.  2.  2.  2.  2.  2.  1.  1.  1.  2.  1.  1. 10.  2.\n",
      "  1.  4.  5.  2.  4.  1.  2.  5.  2.  3.  2.  3.  2.  3.  3.  2.  2.  2.\n",
      "  4.  3.  5.  5.  3.  1.  1.  1.  1.  1.  2.  1.  2.  1.  1.  2.  2.  1.\n",
      "  6. 12.  2.  4.  1.  1.  1.  5.  3.  1.  3.  7.  1. 13. 19. 21. 23. 21.\n",
      " 20. 24. 21. 17. 18. 23. 12. 23. 24. 21. 20. 15. 22. 22. 22. 20. 22. 23.\n",
      " 16. 21. 24. 20. 23. 22. 20. 14. 21. 19. 20. 26. 14. 18. 26. 18. 21. 25.\n",
      " 24. 22. 20. 15. 18. 17. 17. 24. 17. 24. 19. 22. 20. 20. 19. 19. 22. 22.\n",
      " 16. 22. 21. 24. 17. 17. 18. 19. 22. 22. 24. 19. 21. 20. 18. 28. 18. 23.\n",
      " 10. 17. 19. 28. 20. 21. 18. 19. 22. 16. 16. 24. 18. 18. 20. 19. 18. 17.\n",
      " 20. 14. 27. 20. 13. 22. 16. 22. 24. 20. 25. 24. 21. 20. 16. 22. 19. 19.\n",
      " 20. 24. 16. 24. 23. 23. 23. 22. 22. 21. 19. 23. 21. 17. 22. 20. 20. 21.\n",
      " 17. 23. 21. 17. 18. 22. 17. 22. 21. 22. 19. 20. 20. 19. 20. 19. 20. 16.\n",
      " 22. 22. 28. 19. 17. 18. 20. 16. 20. 17. 18. 23. 17. 23. 20. 19. 22. 21.\n",
      " 18. 19. 20. 18. 21. 18. 21. 19. 19. 15. 17. 20. 18. 19. 18. 19. 16. 17.\n",
      " 24. 22. 20. 22. 20. 23. 18. 21. 22. 18. 24. 18. 21. 25. 19. 15. 24. 22.\n",
      " 22. 22. 24. 23. 16. 27. 23. 24. 16. 22. 20. 23. 24. 19. 18. 19. 19. 20.\n",
      " 21. 21. 20. 17. 16. 19. 24. 22. 17. 19. 20. 20. 21. 20. 19. 21. 22. 22.\n",
      " 25. 18. 19. 15. 17. 18. 18. 16. 20. 22. 23. 21. 17. 22. 20. 21. 20. 21.\n",
      " 14. 26. 24. 21. 16. 20. 15. 17. 18. 18. 21. 26. 22. 20. 17. 15. 24. 15.\n",
      " 21. 21. 22. 24. 11. 21. 21. 17. 19. 23. 19. 22. 18. 17. 15. 18. 21. 24.\n",
      " 21. 21. 20. 21. 23. 24. 19. 23. 28. 17. 20. 23. 19. 18. 22. 15. 21. 20.\n",
      " 18. 19. 17. 28. 19. 22. 25. 20. 23. 21. 25. 20. 24. 18. 17. 19. 19. 17.\n",
      " 16. 20. 18. 22. 17. 15. 26. 21. 19. 24. 21. 21. 21. 20. 19. 22. 41. 41.\n",
      " 41. 45. 42. 40. 41. 46. 42. 39. 41. 35. 42. 43. 41. 38. 41. 41. 36. 41.\n",
      " 44. 41. 39. 41. 38. 37. 38. 44. 36. 38. 43. 35. 43. 41. 37. 39. 39. 34.\n",
      " 41. 38. 41. 44. 36. 52. 40. 40. 36. 36. 36. 39. 46. 36. 40. 40. 35. 43.\n",
      " 39. 44. 40. 44. 34. 47. 41. 41. 41. 39. 42. 44. 39. 42. 42. 39. 41. 39.\n",
      " 38. 35. 37. 43. 40. 36. 37. 39. 48. 35. 38. 37. 35. 37. 38. 43. 41. 40.\n",
      " 34. 37. 36. 40. 38. 40. 42. 42. 44. 40. 42. 37. 45. 40. 39. 37. 34. 42.\n",
      " 40. 41. 45. 42. 35. 43. 42. 37. 43. 44. 41. 34. 39. 41. 39. 46. 43. 41.\n",
      " 40. 38. 41. 40. 38. 35. 38. 42. 38. 41. 38. 36. 45. 43. 41. 41. 43. 40.\n",
      " 41. 34. 36. 41. 38. 42. 41. 39. 39. 40. 42. 36. 36. 41. 42. 39. 43. 44.\n",
      " 41. 41. 41. 42. 37. 37. 42. 42. 43. 41. 36. 42. 46. 39. 41. 46. 39. 47.\n",
      " 36. 43. 49. 40. 37. 43. 41. 41. 39. 38. 44. 45. 39. 41. 41. 42. 38. 42.\n",
      " 39. 37. 40. 41. 36. 38. 37. 37. 38. 39. 41. 36. 42. 36. 40. 38. 44. 38.\n",
      " 40. 37. 46. 41. 40. 38. 41. 41. 44. 33. 40. 44. 42. 35. 44. 41. 34. 36.\n",
      " 43. 43. 41. 40. 38. 34. 46. 42. 41. 42. 41. 37. 36. 38. 45. 41. 37. 33.\n",
      " 40. 41. 43. 40. 38. 42. 41. 38. 41. 41. 41. 42. 36. 44. 35. 42. 40. 38.\n",
      " 34. 38. 36. 40. 38. 41. 44. 39. 47. 43. 36. 38. 40. 42. 35. 38. 41. 37.\n",
      " 42. 36. 45. 35. 35. 41. 42. 33. 40. 35. 35. 36. 40. 40. 40. 47. 39. 39.\n",
      " 41. 39. 44. 37. 40. 41. 40. 40. 40. 46.]\n"
     ]
    }
   ],
   "source": [
    "X = theta_to_data(1000, [1/3, 1/3, 1/3], 0.5, 3, 20, [3, 3])\n",
    "assert(0 == sum(X < 0))\n",
    "print(X)"
   ]
  }
 ],
 "metadata": {
  "kernelspec": {
   "display_name": "base",
   "language": "python",
   "name": "python3"
  },
  "language_info": {
   "codemirror_mode": {
    "name": "ipython",
    "version": 3
   },
   "file_extension": ".py",
   "mimetype": "text/x-python",
   "name": "python",
   "nbconvert_exporter": "python",
   "pygments_lexer": "ipython3",
   "version": "3.8.8"
  },
  "orig_nbformat": 4
 },
 "nbformat": 4,
 "nbformat_minor": 2
}
