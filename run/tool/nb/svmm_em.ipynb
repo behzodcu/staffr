{
 "cells": [
  {
   "attachments": {},
   "cell_type": "markdown",
   "metadata": {},
   "source": [
    "# Classification of Genomic Structural Variants\n",
    "## Structural Variant Mixture Model"
   ]
  },
  {
   "cell_type": "code",
   "execution_count": 6,
   "metadata": {},
   "outputs": [],
   "source": [
    "import matplotlib.pyplot as plt\n",
    "import numpy as np\n",
    "import pandas as pd\n",
    "import scipy.stats as stats\n",
    "from scipy.stats import geom, norm\n",
    "import statsmodels.api as sm\n",
    "from sklearn.cluster import KMeans as km\n",
    "from sklearn.mixture import GaussianMixture as GMM\n",
    "import sklearn.metrics as metrics\n",
    "import random\n",
    "import math"
   ]
  },
  {
   "attachments": {},
   "cell_type": "markdown",
   "metadata": {},
   "source": [
    "### Expectation Maximization"
   ]
  },
  {
   "cell_type": "code",
   "execution_count": 2,
   "metadata": {},
   "outputs": [],
   "source": [
    "# TODO: UNDER CONSTRUCTION\n",
    "\n",
    "# Plot the results from running the modified expectation maximization algorithm, for the two mode model\n",
    "# - the mixture model comprises of a hurdle model for the first mode, with a zero-inflated component and a geometric component for noise\n",
    "# - the second mode is a normal distribution, with some mu_2 and sigma_2\n",
    "# - the plots ensure that there is weight given to the geometric representing noise; otherwise, all of the weight goes towards the zero-inflation\n",
    "# - if there is indeed not all weight going towards zero-inflation, we may represent the geometric as well as the normal distribution\n",
    "# - display the model histogram\n",
    "# - display 2-mode structural variant mixture model scatter\n",
    "# - display the affinities associated with each mode in the mixture model\n",
    "\n",
    "# TODO: patch nan values in meaningful way\n",
    "# TODO: improve visualization of model against histogram\n",
    "\n",
    "def plot_SVEM_2mode(alpha,pi,l,mu,sigma,r,N, show_affinity_plot, ax):\n",
    "    if math.isnan(pi[0]):\n",
    "        X = [0 for _ in range(N)]\n",
    "    else:\n",
    "        X = [0 for _ in range(int(pi[0]*N*alpha))]\n",
    "        if alpha != 1:\n",
    "            X_l = stats.geom.rvs(1/l, size=(int(N*(1-alpha)*pi[0])))\n",
    "            X.extend(X_l)\n",
    "            X_g = np.random.normal(mu[0], sigma[0], int(pi[1]*N))\n",
    "            X_g = [round(g) for g in X_g]\n",
    "            X.extend(X_g)\n",
    "\n",
    "    hist_1, bin_edges_1 = np.histogram(X, bins=20, density=False)\n",
    "    bin_center_1 = (bin_edges_1[:-1] + bin_edges_1[1:])/2\n",
    "    plt.scatter(bin_center_1, hist_1, color = 'orange')\n",
    "    \n",
    "    if(show_affinity_plot):\n",
    "        fig_1, ax_1 = plt.subplots(figsize = (6,6))\n",
    "        ax_1.set_yscale(\"log\")\n",
    "        plt.xlabel('Affinity')\n",
    "        plt.ylabel('Number of Samples')\n",
    "        plt.hist(r[0], alpha = 0.5)\n",
    "        plt.hist(r[1], alpha = 0.5)\n",
    "        plt.show()"
   ]
  },
  {
   "cell_type": "code",
   "execution_count": 3,
   "metadata": {},
   "outputs": [],
   "source": [
    "# Modifying the expectation maximization algorithm from running on a Gaussian mixture model to one that better fits SVs\n",
    "# - first iteration will replace the first mode with a hurdle model and drop the third mode (a normal distribution)\n",
    "# - the parameters introduced in the hurdle model involve alpha, the proportion of zeros relative to all data points\n",
    "# - the other parameter introduced is lambda, a variable that represents the expected value for # of trials until first success in a geometric\n",
    "# - recall that other relevant parameters are mu, the mean of the normal distribution, and sigma, the std of the normal\n",
    "# - another relevant parameter is pi, the mixing coefficient, related to the weight given to each mode, and r, the responsibility matrix\n",
    "\n",
    "# TODO: find better initial approximations\n",
    "# TODO: condense and improve flow, convert to OOP?\n",
    "\n",
    "def SVEM_2mode(data, plot_it, show_affinity_plot, ax): \n",
    "    def dist(a,b):\n",
    "        return np.abs(b - a)\n",
    "    N = len(data)\n",
    "    f = np.ravel(data).astype(float)\n",
    "    f=f.reshape(-1,1)\n",
    "    kmeans = km(n_clusters=2)\n",
    "    kmeans.fit(f)\n",
    "    centers = np.sort(np.ravel(kmeans.cluster_centers_))\n",
    "    mu = centers\n",
    "    mu = np.delete(mu, 0)\n",
    "    sigma = [np.std(data)]\n",
    "    pi = np.ones(2) * (1.0/2) \n",
    "    r = np.zeros([2,N]) \n",
    "    ll_list = list()\n",
    "    iteration = 0\n",
    "    distance = 1\n",
    "    num_zeros = np.count_nonzero(data == 0)\n",
    "    alpha = num_zeros / len(data) \n",
    "    l = 2\n",
    "\n",
    "    while distance > (1 / (N*10)): \n",
    "        r_zero = []\n",
    "        for i in range(len(data)):\n",
    "            if data[i]==0:\n",
    "                r_zero.append(alpha*pi[0])\n",
    "            else:\n",
    "                geo = stats.geom.pmf(data[i],1/l)\n",
    "                r_zero.append(geo*(1-alpha)*pi[0])\n",
    "                \n",
    "        r[0] = r_zero\n",
    "        r[1] = pi[1] * stats.norm.pdf(x=data, loc=mu[0], scale=sigma[0]) \n",
    "        for idx, r_i in enumerate(r[0]):\n",
    "            if r_i == 0 or math.isnan(r_i):\n",
    "                r[0][idx] = 1e-10\n",
    "        for idx, r_i in enumerate(r[1]):\n",
    "            if r_i == 0 or math.isnan(r_i):\n",
    "                r[1][idx] = 1e-10\n",
    "        r = r / np.sum(r, axis=0) \n",
    "\n",
    "        N_k = np.sum(r, axis=1)\n",
    "        r_sum = 0\n",
    "        for i in range(N):\n",
    "            if data[i] == 0:\n",
    "                r_sum += r[0][i]\n",
    "        alpha = r_sum / sum(r[0])\n",
    "        l_sum = 0\n",
    "        for i in range(N):\n",
    "            if data[i] != 0:\n",
    "                l_sum += data[i] * r[0][i]\n",
    "        if alpha != 1:\n",
    "            l = l_sum / ((1-alpha)*sum(r[0]))\n",
    "        else:\n",
    "            l = 1e-3\n",
    "        mu[0] = (np.sum(r[1] * data)) / N_k[1]  \n",
    "        numerator = r[1] * (data - mu[0])**2\n",
    "        sigma[0] = np.sqrt(np.sum(numerator) / N_k[1]) \n",
    "        if sigma[0] < 0.01:\n",
    "            sigma[0] = 0.01\n",
    "        pi = N_k/N\n",
    "\n",
    "        likelihood_zero = (pi[0] * alpha) + (pi[1] * stats.norm.pdf(x = 0, loc = mu[0], scale = sigma[0]))\n",
    "        likelihood = [likelihood_zero for _ in range(num_zeros)]\n",
    "        for i in np.nonzero(data)[0]:\n",
    "            nonzero_hurdle_likelihood = pi[0] * (1-alpha) * stats.geom.pmf(data[i], 1/l)\n",
    "            likelihood.append(nonzero_hurdle_likelihood + (pi[1] * stats.norm.pdf(x = data[i], loc = mu[0], scale = sigma[0])))\n",
    "        log_likelihood = np.sum(np.log(likelihood))\n",
    "        ll_list.append(log_likelihood)\n",
    "        \n",
    "        iteration += 1\n",
    "        if iteration > 1:\n",
    "            distance = dist(ll_list[-1],ll_list[-2])\n",
    "    if(plot_it):\n",
    "        plot_SVEM_2mode(alpha,pi,l,mu,sigma,r,N, show_affinity_plot, ax)\n",
    "    return alpha, l, ll_list"
   ]
  },
  {
   "cell_type": "code",
   "execution_count": 4,
   "metadata": {},
   "outputs": [],
   "source": [
    "# Test the structural variant mixture model against synthetic data\n",
    "# - generate data for zero-inflation, noise as a geometric distribution, and a normal distribution\n",
    "\n",
    "# TODO: verify that conversion of points generated from Gaussian are rounded rather than truncated\n",
    "\n",
    "N = 5000\n",
    "a = 0.5\n",
    "l = 2\n",
    "\n",
    "X = [0 for _ in range(int(N*a))] # zero-inflation\n",
    "X_l = stats.geom.rvs(1/l, size=(int(N*(1-a)))) # geometric distribution (p = 1/l, size)\n",
    "X.extend(X_l)\n",
    "\n",
    "X_g = np.random.normal(30, 3, 5000) # normal distribution (mu, std, size)\n",
    "X_g = [round(g) for g in X_g] # convert to integers, in line with structural variant data\n",
    "X.extend(X_g)"
   ]
  },
  {
   "cell_type": "code",
   "execution_count": 5,
   "metadata": {},
   "outputs": [
    {
     "data": {
      "image/png": "[encoded data removed]",
      "text/plain": [
       "<Figure size 432x432 with 1 Axes>"
      ]
     },
     "metadata": {
      "needs_background": "light"
     },
     "output_type": "display_data"
    },
    {
     "data": {
      "image/png": "[encoded data removed]",
      "text/plain": [
       "<Figure size 432x432 with 1 Axes>"
      ]
     },
     "metadata": {
      "needs_background": "light"
     },
     "output_type": "display_data"
    }
   ],
   "source": [
    "# Plot the original data, along with structural variant mixture model\n",
    "\n",
    "fig, ax = plt.subplots(figsize = (6,6))\n",
    "\n",
    "ax.hist(X, bins = 25, alpha = 0.25)\n",
    "ax.set_yscale(\"log\")\n",
    "ax.set_ylim(bottom=1)\n",
    "ax.set_xlim(left=0)\n",
    "plt.xlabel('Evidence Depth')\n",
    "plt.ylabel('Number of Samples')\n",
    "\n",
    "alpha, l, ll_list = SVEM_2mode(np.array(X), True, True, ax)"
   ]
  },
  {
   "cell_type": "code",
   "execution_count": 6,
   "metadata": {},
   "outputs": [
    {
     "name": "stdout",
     "output_type": "stream",
     "text": [
      "301.4640814097693\n",
      "392.22845218254315\n",
      "100.11289517796376\n",
      "1.2966751727808514\n",
      "0.013046348635725735\n",
      "0.00010876322448893916\n",
      "8.883780537871644e-07\n"
     ]
    },
    {
     "data": {
      "image/png": "[encoded data removed]",
      "text/plain": [
       "<Figure size 432x432 with 1 Axes>"
      ]
     },
     "metadata": {
      "needs_background": "light"
     },
     "output_type": "display_data"
    },
    {
     "data": {
      "text/plain": [
       "(array([0.5003612, 0.4996388]),\n",
       " 0.49963905581843787,\n",
       " 3.011267771182254,\n",
       " 30.134960537567945,\n",
       " 3.045003709961847)"
      ]
     },
     "execution_count": 6,
     "metadata": {},
     "output_type": "execute_result"
    }
   ],
   "source": [
    "from scipy.stats import norm, geom\n",
    "\n",
    "def SVMM(X, show_plot):\n",
    "\n",
    "    def plot_SVMM(X, N, pi, alpha, lambda_, mu, sigma):\n",
    "        fig, ax = plt.subplots(figsize = (6,6))\n",
    "        plt.hist(X, alpha = 0.25, bins = 20)\n",
    "\n",
    "        X_hurdle = [0 for _ in range(int(pi[0] * N * alpha))]\n",
    "        X_hurdle.extend(geom.rvs(1/lambda_, size = int(N * (1-alpha) * pi[0])))\n",
    "        hist_hurdle, bin_hurdle = np.histogram(X_hurdle, bins = 30)\n",
    "        plt.scatter(0.5 * (bin_hurdle[1:] + bin_hurdle[:-1]), hist_hurdle, color = 'orange')\n",
    "\n",
    "        X_normal1 = norm.rvs(mu, sigma, size = int(pi[1] * N))\n",
    "        hist_normal1, bin_normal1 = np.histogram(X_normal1, 30)\n",
    "        plt.scatter(0.5 * (bin_normal1[1:] + bin_normal1[:-1]), hist_normal1, color = 'green')\n",
    "\n",
    "        ax.set_yscale(\"log\")\n",
    "        ax.set_ylim(bottom=1)\n",
    "        ax.set_xlim(left=0)\n",
    "        plt.xlabel('Evidence Depth')\n",
    "        plt.ylabel('Number of Samples')\n",
    "        plt.show()\n",
    "\n",
    "    N = np.shape(X)[0]\n",
    "    pi = [1.0/2 for _ in range(2)]\n",
    "    r = np.zeros([2,N]) \n",
    "    alpha = np.sum(X == 0) / N\n",
    "    lambda_ = N / np.sum(X != 0) \n",
    "    sigma = np.std(X) \n",
    "    mu = np.mean(X)\n",
    "    ll_list = []\n",
    "    iteration = 0\n",
    "    distance = 1\n",
    "\n",
    "    while distance > (1/(N*10)):\n",
    "        r[0][X==0] = pi[0] * alpha\n",
    "        r[0][X!=0] = pi[0] * (1-alpha) * geom.pmf(X[X!=0], 1/lambda_)\n",
    "        r[1] = pi[1] * norm.pdf(X, mu, sigma)\n",
    "        r = r / np.sum(r, axis = 0)\n",
    "\n",
    "        pi = np.sum(r, axis = 1) / N\n",
    "        alpha = np.sum(r[0][X==0]) / np.sum(r[0])\n",
    "        lambda_ = np.dot(X[X != 0], r[0][X != 0]) / ((1-alpha)*np.sum(r[0]))\n",
    "        mu = np.average(X, weights = r[1])\n",
    "        sigma = np.average((X-mu)**2, weights=r[1])**.5\n",
    "\n",
    "        hurdle = np.where(X == 0, pi[0] * alpha, pi[0] * (1-alpha) * geom.pmf(X,1/lambda_))\n",
    "        gmm = pi[1] * norm.pdf(X, mu, sigma)\n",
    "        log_likelihood = np.sum(np.log(hurdle + gmm))\n",
    "        ll_list.append(log_likelihood)\n",
    "\n",
    "        iteration += 1\n",
    "        if iteration > 1:\n",
    "            distance = np.abs(ll_list[-2]-ll_list[-1])\n",
    "            print(distance)\n",
    "\n",
    "    if(show_plot):\n",
    "        plot_SVMM(X, N, pi, alpha, lambda_, mu, sigma)\n",
    "\n",
    "    return pi, alpha, lambda_, mu, sigma\n",
    "\n",
    "N_gen = 1000\n",
    "a_gen = 0.5\n",
    "l_gen = 3\n",
    "\n",
    "X = [0 for _ in range(int(N_gen*a_gen))]\n",
    "X_l = geom.rvs(1/l_gen, size=(int(N_gen*(1-a_gen)))) \n",
    "X.extend(X_l)\n",
    "\n",
    "X_g = np.random.normal(30, 3, 1000) \n",
    "X_g = [round(g) for g in X_g] \n",
    "X.extend(X_g)\n",
    "\n",
    "X = np.array(X)\n",
    "\n",
    "SVMM(X, True)"
   ]
  },
  {
   "cell_type": "code",
   "execution_count": 7,
   "metadata": {},
   "outputs": [
    {
     "name": "stderr",
     "output_type": "stream",
     "text": [
      "/var/folders/3v/8c4h0_nj36l6vkszy1szz5280000gn/T/ipykernel_38513/4220674881.py:18: ConvergenceWarning: Number of distinct clusters (1) found smaller than n_clusters (2). Possibly due to duplicate points in X.\n",
      "  kmeans.fit(f)\n",
      "/Users/behzod/opt/anaconda3/lib/python3.8/site-packages/scipy/stats/_distn_infrastructure.py:1835: RuntimeWarning: invalid value encountered in true_divide\n",
      "  x = np.asarray((x - loc)/scale, dtype=dtyp)\n"
     ]
    },
    {
     "data": {
      "image/png": "[encoded data removed]",
      "text/plain": [
       "<Figure size 432x432 with 1 Axes>"
      ]
     },
     "metadata": {
      "needs_background": "light"
     },
     "output_type": "display_data"
    },
    {
     "data": {
      "image/png": "[encoded data removed]",
      "text/plain": [
       "<Figure size 432x432 with 1 Axes>"
      ]
     },
     "metadata": {
      "needs_background": "light"
     },
     "output_type": "display_data"
    }
   ],
   "source": [
    "# Test the structural variant mixture model against edge cases\n",
    "# Test 1: all zeros\n",
    "\n",
    "N = 10000\n",
    "X = [0 for _ in range(N)]\n",
    "\n",
    "fig, ax = plt.subplots(figsize = (6,6))\n",
    "\n",
    "ax.hist(X, bins = 25, alpha = 0.25)\n",
    "ax.set_yscale(\"log\")\n",
    "ax.set_ylim(bottom=1)\n",
    "ax.set_xlim(left=0)\n",
    "plt.xlabel('Evidence Depth')\n",
    "plt.ylabel('Number of Samples')\n",
    "\n",
    "alpha, l, ll_list = SVEM_2mode(np.array(X), True, True, ax)\n",
    "\n",
    "# TODO: improve model overlay"
   ]
  },
  {
   "cell_type": "code",
   "execution_count": 6,
   "metadata": {},
   "outputs": [
    {
     "data": {
      "image/png": "[encoded data removed]",
      "text/plain": [
       "<Figure size 432x432 with 1 Axes>"
      ]
     },
     "metadata": {
      "needs_background": "light"
     },
     "output_type": "display_data"
    },
    {
     "data": {
      "image/png": "[encoded data removed]",
      "text/plain": [
       "<Figure size 432x432 with 1 Axes>"
      ]
     },
     "metadata": {
      "needs_background": "light"
     },
     "output_type": "display_data"
    }
   ],
   "source": [
    "# Test 2: high overlap\n",
    "\n",
    "N = 1000\n",
    "a = 0.5\n",
    "l = 2\n",
    "\n",
    "X = [0 for _ in range(int(N*a))]\n",
    "X_l = stats.geom.rvs(1/l, size=(int(N*(1-a))))\n",
    "\n",
    "X.extend(X_l)\n",
    "X_g = np.random.normal(20, 10, 1000) \n",
    "X_g = [int(g) for g in X_g]\n",
    "X.extend(X_g)\n",
    "\n",
    "fig, ax = plt.subplots(figsize = (6,6))\n",
    "\n",
    "ax.hist(X, bins = 25, alpha = 0.25)\n",
    "ax.set_yscale(\"log\")\n",
    "ax.set_ylim(bottom=1)\n",
    "ax.set_xlim(left=0)\n",
    "plt.xlabel('Evidence Depth')\n",
    "plt.ylabel('Number of Samples')\n",
    "\n",
    "alpha, l, ll_list = SVEM_2mode(np.array(X), True, True, ax)"
   ]
  },
  {
   "cell_type": "code",
   "execution_count": 12,
   "metadata": {},
   "outputs": [
    {
     "data": {
      "image/png": "[encoded data removed]",
      "text/plain": [
       "<Figure size 432x432 with 1 Axes>"
      ]
     },
     "metadata": {
      "needs_background": "light"
     },
     "output_type": "display_data"
    },
    {
     "data": {
      "image/png": "[encoded data removed]",
      "text/plain": [
       "<Figure size 432x432 with 1 Axes>"
      ]
     },
     "metadata": {
      "needs_background": "light"
     },
     "output_type": "display_data"
    }
   ],
   "source": [
    "# Test 3: confusion with noise\n",
    "\n",
    "N = 500\n",
    "a = 0.1\n",
    "l = 5\n",
    "\n",
    "X = [0 for _ in range(int(N*a))]\n",
    "X_l = stats.geom.rvs(1/l, size=(int(N*(1-a))))\n",
    "\n",
    "X.extend(X_l)\n",
    "X_g = np.random.normal(5, 2, 500)\n",
    "X_g = [int(g) for g in X_g]\n",
    "X.extend(X_g)\n",
    "\n",
    "fig, ax = plt.subplots(figsize = (6,6))\n",
    "\n",
    "ax.hist(X, bins = 25, alpha = 0.25)\n",
    "ax.set_yscale(\"log\")\n",
    "ax.set_ylim(bottom=1)\n",
    "ax.set_xlim(left=0)\n",
    "plt.xlabel('Evidence Depth')\n",
    "plt.ylabel('Number of Samples')\n",
    "\n",
    "alpha, l, ll_list = SVEM_2mode(np.array(X), True, True, ax)"
   ]
  },
  {
   "cell_type": "code",
   "execution_count": 13,
   "metadata": {},
   "outputs": [
    {
     "data": {
      "image/png": "[encoded data removed]",
      "text/plain": [
       "<Figure size 432x432 with 1 Axes>"
      ]
     },
     "metadata": {
      "needs_background": "light"
     },
     "output_type": "display_data"
    },
    {
     "data": {
      "image/png": "[encoded data removed]",
      "text/plain": [
       "<Figure size 432x432 with 1 Axes>"
      ]
     },
     "metadata": {
      "needs_background": "light"
     },
     "output_type": "display_data"
    }
   ],
   "source": [
    "# Test 4: Gaussian-only, none from hurdle\n",
    "\n",
    "X = []\n",
    "X = np.random.normal(40, 5, 3000)\n",
    "X = [int(x) for x in X]\n",
    "\n",
    "fig, ax = plt.subplots(figsize = (6,6))\n",
    "\n",
    "ax.hist(X, bins = 25, alpha = 0.25)\n",
    "ax.set_yscale(\"log\")\n",
    "ax.set_ylim(bottom=1)\n",
    "ax.set_xlim(left=0)\n",
    "plt.xlabel('Evidence Depth')\n",
    "plt.ylabel('Number of Samples')\n",
    "\n",
    "alpha, l, ll_list = SVEM_2mode(np.array(X), True, True, ax)\n",
    "\n",
    "# TODO: improve affinity display"
   ]
  },
  {
   "cell_type": "code",
   "execution_count": 43,
   "metadata": {},
   "outputs": [],
   "source": [
    "# Plot the results from running the modified expectation maximization algorithm, for the full three mode model\n",
    "# - the mixture model comprises of a hurdle model for the first mode, with a zero-inflated component and a geometric component for noise\n",
    "# - the second mode is a normal distribution, with some mu_2 and sigma_2\n",
    "# - the third mode is coupled with the second mode, in that mu_3 is twice mu_2, while sigma_3 is independent\n",
    "# - the plots ensure that there is weight given to the geometric representing noise; otherwise, all of the weight goes towards the zero-inflation\n",
    "# - if there is indeed not all weight going towards zero-inflation, we may represent the geometric as well as the normal distribution\n",
    "# - display the model histogram\n",
    "# - display 3-mode structural variant mixture model scatter\n",
    "# - display the affinities associated with each mode in the mixture model\n",
    "\n",
    "# TODO: patch nan values in meaningful way\n",
    "# TODO: improve visualization of model against histogram\n",
    "\n",
    "def plot_SVEM_3mode(alpha,pi,l,mu,sigma,r,N, show_affinity_plot, ax):\n",
    "    if math.isnan(pi[0]):\n",
    "        X = [0 for _ in range(N)]\n",
    "    else:\n",
    "        X = [0 for _ in range(int(pi[0]*N*alpha))]\n",
    "        if alpha != 1:\n",
    "            X_l = stats.geom.rvs(1/l, size=(int(N*(1-alpha)*pi[0])))\n",
    "            X.extend(X_l)\n",
    "            X_g = np.random.normal(mu[0], sigma[0], int(pi[1]*N))\n",
    "            X_g = [int(g) for g in X_g]\n",
    "            X.extend(X_g)\n",
    "            X_a = np.random.normal(mu[1], sigma[1], int(pi[2]*N))\n",
    "            X_a = [int(a) for a in X_a]\n",
    "            X.extend(X_a)\n",
    "\n",
    "    hist_1, bin_edges_1 = np.histogram(X, bins=30, density=False)\n",
    "    bin_center_1 = (bin_edges_1[:-1] + bin_edges_1[1:])/2\n",
    "\n",
    "    plt.scatter(bin_center_1, hist_1, color = 'orange')\n",
    "\n",
    "    if(show_affinity_plot):\n",
    "        fig_1, ax_1 = plt.subplots(figsize = (6,6))\n",
    "        ax_1.set_yscale(\"log\")\n",
    "        plt.xlabel('Affinity')\n",
    "        plt.ylabel('Number of Samples')\n",
    "        # TODO: move the plots side by side\n",
    "        plt.hist(r[0], alpha = 0.5, label = 'first mode') \n",
    "        plt.hist(r[1], alpha = 0.5, label = 'second mode')\n",
    "        plt.hist(r[2], alpha = 0.5, label = 'third mode')\n",
    "        plt.legend(loc=\"upper left\")\n",
    "        plt.show()"
   ]
  },
  {
   "cell_type": "code",
   "execution_count": 142,
   "metadata": {},
   "outputs": [],
   "source": [
    "# Modifying the expectation maximization algorithm from running on a Gaussian mixture model to one that better fits SVs\n",
    "# - first iteration will replace the first mode with a hurdle model\n",
    "# - the parameters introduced in the hurdle model involve alpha, the proportion of zeros relative to all data points\n",
    "# - the other parameter introduced is lambda, a variable that represents the expected value for # of trials until first success in a geometric\n",
    "# - recall that other relevant parameters are mu_2, the mean of the normal distribution, and sigma_3, the std of the second mode\n",
    "# - another relevenat parameter is mu_3, which is coupled to mu_2 by being twice its value, and sigma_3, the std of the third mode\n",
    "# - another relevant parameter is pi, the mixing coefficient, related to the weight given to each mode, and r, the responsibility matrix\n",
    "\n",
    "# TODO: find better initial approximations\n",
    "# TODO: condense and improve flow, convert to OOP?\n",
    "# TODO: couple third mode mu to second mode mu \n",
    "\n",
    "def SVEM_3mode(data, plot_it, show_affinity_plot, ax): \n",
    "    def dist(a,b):\n",
    "        return np.abs(b - a)\n",
    "    N = len(data)\n",
    "    f = np.ravel(data).astype(float) \n",
    "    f=f.reshape(-1,1) # reshaping data so built-in kmeans can process data\n",
    "    kmeans = km(n_clusters=3)\n",
    "    kmeans.fit(f)\n",
    "    centers = np.sort(np.ravel(kmeans.cluster_centers_))\n",
    "    mu = centers # initial guess for mu \n",
    "    mu = np.delete(mu, 0) # not needed for first mode\n",
    "    sigma = [np.std(data), np.std(data)] # initial guess for standard deviations \n",
    "    pi = np.ones(3) * (1.0/3) # initial weight across 3 modes\n",
    "    r = np.zeros([3,N]) # responsibility matrix for 3 modes\n",
    "    ll_list = list() # log-likelihood list\n",
    "    iteration = 0\n",
    "    distance = 1 # distance between log-likelihoods\n",
    "    alpha = np.count_nonzero(data == 0) / len(data) # intial guess for proportion of zeros that comprise data\n",
    "    l = 2 # expected value for first mode hurdle model geometric\n",
    "\n",
    "    while distance > (1 / (N*10)): # tolerance\n",
    "        r_zero = [] # affinity for first mode \n",
    "        for i in range(len(data)): # for each data point\n",
    "            if data[i]==0: \n",
    "                r_zero.append(alpha*pi[0]) # if the data point is a 0, set affinity to proportion of zeros times first mode weight \n",
    "            else: \n",
    "                geo = stats.geom.pmf(data[i],1/l) # otherwise, the data point is noise and its affinity is associated with\n",
    "                                                  # its geometric pmf and expected value\n",
    "                r_zero.append(geo*(1-alpha)*pi[0]) # the noise affinity is geometric pmf (w/ inverse expected value)\n",
    "                                                   # * proportion of nonzero * first mode weight\n",
    "                \n",
    "        r[0] = r_zero # set responsibility matrix row associated with first mode to found affinities\n",
    "        r[1] = pi[1] * stats.norm.pdf(x=data, loc=mu[0], scale=sigma[0]) # second mode responsibility is equal to\n",
    "                                                                         # normal pdf (w/ mu_2, sigma_3)\n",
    "        r[2] = pi[2] * stats.norm.pdf(x=data, loc=mu[1], scale=sigma[1]) # third mode responsibility is equal to \n",
    "                                                                         # normal pdf (w/ mu_3, sigma_3)\n",
    "        # TODO: condense this to one for-loop\n",
    "        # background affinity to prevent numerical errors\n",
    "        for idx, r_i in enumerate(r[0]):\n",
    "            if r_i == 0 or math.isnan(r_i):\n",
    "                r[0][idx] = 1e-10\n",
    "        for idx, r_i in enumerate(r[1]):\n",
    "            if r_i == 0 or math.isnan(r_i):\n",
    "                r[1][idx] = 1e-10\n",
    "        for idx, r_i in enumerate(r[2]):\n",
    "            if r_i == 0 or math.isnan(r_i):\n",
    "                r[2][idx] = 1e-10\n",
    "        r = r / np.sum(r, axis=0) # normalize responsibility matrix\n",
    "\n",
    "        N_k = np.sum(r, axis=1) \n",
    "        r_sum = 0 \n",
    "        for i in range(N): \n",
    "            if data[i] == 0: # I(x_i = 0) -> {1 if x_i = 0, 0 otherwise}; given that the indicator variable returns 1\n",
    "                r_sum += r[0][i] # take the sum of the responsibilities for each point in the first mode\n",
    "        alpha = r_sum / sum(r[0])   # take the proportion of the sum of responsibilites which have an associated x_i = 0 \n",
    "                                    # over the sum of all first mode responsibilites\n",
    "        l_sum = 0\n",
    "        for i in range(N): \n",
    "            if data[i] != 0: # I(x_i != 0) -> {1 if x_i != 0, 0 otherwise}; given that the indicator variable returns 1\n",
    "                l_sum += data[i] * r[0][i] # take the sum of responsibilities for each point in the first mode * each data point\n",
    "        if alpha != 1: # if the hurdle model doesn't only have zero-inflation; if not all data points are zero\n",
    "            l = l_sum / ((1-alpha)*sum(r[0])) # take the proportion of the sum of responsibilites for each point in first mode * each data point\n",
    "                                              # which have an associated x_i = 0\n",
    "                                              # over the proportion of non-zero elements * sum of all first mode responsibilites\n",
    "                                              # as this equation is based on the MLE for p in Geo(p), and l = 1/p\n",
    "        else:\n",
    "            l = 1e-3 # lower-bound for expected value associated with geometric distribution\n",
    "\n",
    "        # TODO: condense into one for-loop\n",
    "        # MLEs for mean and standard deviations associated with normal distributions\n",
    "        mu[0] = (np.sum(r[1] * data)) / N_k[1]  \n",
    "        numerator = r[1] * (data - mu[0])**2\n",
    "        sigma[0] = np.sqrt(np.sum(numerator) / N_k[1]) \n",
    "        if sigma[0] < 0.01: # lower-bound for standard deviation\n",
    "            sigma[0] = 0.01\n",
    "        mu[1] = (np.sum(r[2] * data)) / N_k[2]  \n",
    "        numerator = r[2] * (data - mu[1])**2\n",
    "        sigma[1] = np.sqrt(np.sum(numerator) / N_k[2]) \n",
    "        if sigma[1] < 0.01: # lower-bound for standard deviation\n",
    "            sigma[1] = 0.01\n",
    "        pi = N_k/N # update mixing coefficients / weights for each mode\n",
    "\n",
    "        # pi = np.sum(r, axis = 1) / N # total responsibility of a component divided by total # of observations\n",
    "        # alpha = np.sum(r[0][data==0]) / np.sum(r[0]) # MLE for \n",
    "        # if alpha != 1:\n",
    "        #     l = np.dot(data[data != 0], r[0][data != 0]) / ((1-alpha)*np.sum(r[0])) # reciprocal of MLE for p in geometric distribution\n",
    "        # else:\n",
    "        #     l = 1e-3\n",
    "        # mu[0] = np.average(data, weights = r[1]) # MLE for mean in normal distribution\n",
    "        # mu[1] = np.average(data, weights = r[2])\n",
    "        # sigma[0]= np.average((data-mu[0])**2, weights=r[1])**.5 # MLE for standard deviation in normal distribution\n",
    "        # if sigma[0] < 0.01:\n",
    "        #     sigma[0] = 0.01\n",
    "        # sigma[1]= np.average((data-mu[1])**2, weights=r[2])**.5 # MLE for standard deviation in normal distribution\n",
    "        # if sigma[1] < 0.01:\n",
    "        #     sigma[1] = 0.01\n",
    "\n",
    "        # TODO: what if there is no noise, only zero-inflation and normals? \n",
    "\n",
    "        # likelihood = 0.0\n",
    "        # if alpha != 0: # given there are zeros in the data\n",
    "        #     likelihood += pi[0] * np.count_nonzero(data == 0) * np.log(alpha) # log-likelihood of\n",
    "        # if alpha != 1: # given the entire data set is not entirely comprised of zeros\n",
    "        #     likelihood += pi[0] * np.count_nonzero(data) * (np.log(1-alpha) + np.log((1/l)))\n",
    "        #     for j in range(N):\n",
    "        #         if data[j] != 0:\n",
    "        #             likelihood += pi[0]*(data[j]-1) * np.log(1-(1/l))\n",
    "        #     likelihood += pi[1] * stats.norm.pdf(x=data, loc=mu[0], scale=sigma[0])\n",
    "        #     likelihood += pi[2] * stats.norm.pdf(x=data, loc=mu[1], scale=sigma[1])\n",
    "        hurdle = np.where(X == 0, pi[0] * alpha, pi[0] * (1-alpha) * stats.geom.pmf(data,1/l)) #  likelihood of each observation in hurdle model\n",
    "        gmm = pi[1] * stats.norm.pdf(data, mu[0], sigma[0]) + pi[2] * stats.norm.pdf(data, mu[1], sigma[1])# likelihood of each observation in normal distribution\n",
    "        log_likelihood = np.sum(np.log(hurdle + gmm)) # sum of log of likelihood of each observation\n",
    "        ll_list.append(np.sum(log_likelihood))\n",
    "\n",
    "        iteration += 1\n",
    "        if iteration > 1:\n",
    "            distance = dist(ll_list[-1],ll_list[-2])\n",
    "            print(distance)\n",
    "    if(plot_it):\n",
    "        plot_SVEM_3mode(alpha,pi,l,mu,sigma,r,N, show_affinity_plot, ax)\n",
    "    return alpha, l, ll_list"
   ]
  },
  {
   "cell_type": "code",
   "execution_count": 147,
   "metadata": {},
   "outputs": [
    {
     "data": {
      "image/png": "[encoded data removed]",
      "text/plain": [
       "<Figure size 432x432 with 1 Axes>"
      ]
     },
     "metadata": {
      "needs_background": "light"
     },
     "output_type": "display_data"
    },
    {
     "data": {
      "image/png": "[encoded data removed]",
      "text/plain": [
       "<Figure size 432x432 with 1 Axes>"
      ]
     },
     "metadata": {
      "needs_background": "light"
     },
     "output_type": "display_data"
    }
   ],
   "source": [
    "N = 1000\n",
    "a = 0.5\n",
    "l = 2\n",
    "\n",
    "X = [0 for _ in range(int(N*a))]\n",
    "X_l = stats.geom.rvs(1/l, size=(int(N*(1-a))))\n",
    "X.extend(X_l)\n",
    "\n",
    "X_g = np.random.normal(20, 3, 1000)\n",
    "X_g = [int(g) for g in X_g]\n",
    "X.extend(X_g)\n",
    "\n",
    "X_g2 = np.random.normal(40, 3, 1000)\n",
    "X_g2 = [int(g) for g in X_g2]\n",
    "X.extend(X_g2)\n",
    "\n",
    "fig, ax = plt.subplots(figsize = (6,6))\n",
    "\n",
    "ax.hist(X, bins = 25, alpha = 0.25)\n",
    "ax.set_yscale(\"log\")\n",
    "ax.set_ylim(bottom=1)\n",
    "ax.set_xlim(left=0)\n",
    "plt.xlabel('Evidence Depth')\n",
    "plt.ylabel('Number of Samples')\n",
    "\n",
    "alpha, l, ll_list = SVEM_3mode(np.array(X), True, True, ax)"
   ]
  },
  {
   "cell_type": "code",
   "execution_count": 139,
   "metadata": {},
   "outputs": [
    {
     "name": "stderr",
     "output_type": "stream",
     "text": [
      "/var/folders/3v/8c4h0_nj36l6vkszy1szz5280000gn/T/ipykernel_37078/2995350249.py:20: ConvergenceWarning: Number of distinct clusters (1) found smaller than n_clusters (3). Possibly due to duplicate points in X.\n",
      "  kmeans.fit(f)\n",
      "/Users/behzod/opt/anaconda3/lib/python3.8/site-packages/scipy/stats/_distn_infrastructure.py:1835: RuntimeWarning: invalid value encountered in true_divide\n",
      "  x = np.asarray((x - loc)/scale, dtype=dtyp)\n"
     ]
    },
    {
     "data": {
      "image/png": "[encoded data removed]",
      "text/plain": [
       "<Figure size 432x432 with 1 Axes>"
      ]
     },
     "metadata": {
      "needs_background": "light"
     },
     "output_type": "display_data"
    },
    {
     "data": {
      "image/png": "[encoded data removed]",
      "text/plain": [
       "<Figure size 432x432 with 1 Axes>"
      ]
     },
     "metadata": {
      "needs_background": "light"
     },
     "output_type": "display_data"
    }
   ],
   "source": [
    "N = 10000\n",
    "X = [0 for _ in range(N)]\n",
    "\n",
    "fig, ax = plt.subplots(figsize = (6,6))\n",
    "\n",
    "ax.hist(X, bins = 25, alpha = 0.25)\n",
    "ax.set_yscale(\"log\")\n",
    "ax.set_ylim(bottom=1)\n",
    "ax.set_xlim(left=0)\n",
    "plt.xlabel('Evidence Depth')\n",
    "plt.ylabel('Number of Samples')\n",
    "\n",
    "alpha, l, ll_list = SVEM_3mode(np.array(X), True, True, ax)"
   ]
  },
  {
   "cell_type": "code",
   "execution_count": 141,
   "metadata": {},
   "outputs": [
    {
     "data": {
      "image/png": "[encoded data removed]",
      "text/plain": [
       "<Figure size 432x432 with 1 Axes>"
      ]
     },
     "metadata": {
      "needs_background": "light"
     },
     "output_type": "display_data"
    },
    {
     "data": {
      "image/png": "[encoded data removed]",
      "text/plain": [
       "<Figure size 432x432 with 1 Axes>"
      ]
     },
     "metadata": {
      "needs_background": "light"
     },
     "output_type": "display_data"
    }
   ],
   "source": [
    "# Test 4: Guassian-only, none from hurdle (done)\n",
    "X = []\n",
    "X = np.random.normal(40, 5, 1000)\n",
    "X = [int(x) for x in X]\n",
    "\n",
    "fig, ax = plt.subplots(figsize = (6,6))\n",
    "\n",
    "ax.hist(X, bins = 25, alpha = 0.25)\n",
    "ax.set_yscale(\"log\")\n",
    "ax.set_ylim(bottom=1)\n",
    "ax.set_xlim(left=0)\n",
    "plt.xlabel('Evidence Depth')\n",
    "plt.ylabel('Number of Samples')\n",
    "\n",
    "alpha, l, ll_list = SVEM_3mode(np.array(X), True, True, ax)"
   ]
  },
  {
   "attachments": {},
   "cell_type": "markdown",
   "metadata": {},
   "source": [
    "### P-Value Calculation"
   ]
  },
  {
   "cell_type": "code",
   "execution_count": 119,
   "metadata": {},
   "outputs": [],
   "source": [
    "def plot_SVEM_q0(data, alpha,l,r,N,ax):\n",
    "    X_est = [0 for _ in range(int(N*alpha))]\n",
    "    if alpha != 1:\n",
    "        X_l_est = stats.geom.rvs(1/l, size=(int(N*(1-alpha))))\n",
    "        X_est.extend(X_l_est)\n",
    "\n",
    "    hist_1, bin_edges_1 = np.histogram(X_est, bins=20, density=False)\n",
    "    bin_center_1 = (bin_edges_1[:-1] + bin_edges_1[1:])/2\n",
    "\n",
    "    ax.scatter(bin_center_1, hist_1, color = 'orange')\n",
    "    plt.show()"
   ]
  },
  {
   "cell_type": "code",
   "execution_count": 120,
   "metadata": {},
   "outputs": [],
   "source": [
    "def SV_Plot(data,ax, show_plot): \n",
    "    def dist(a,b):\n",
    "        return np.abs(b - a)\n",
    "    N = len(data)\n",
    "    # f = np.ravel(data).astype(float)\n",
    "    # f=f.reshape(-1,1)\n",
    "    # kmeans = km(n_clusters=2)\n",
    "    # kmeans.fit(f)\n",
    "    # centers = np.sort(np.ravel(kmeans.cluster_centers_))\n",
    "    # mu = centers\n",
    "    # mu = np.delete(mu, 0)\n",
    "    # sigma = [np.std(data)]\n",
    "    # pi = np.ones(2) * (1.0/2) \n",
    "    r = np.zeros([1,N]) \n",
    "    ll_list = list()\n",
    "    iteration = 0\n",
    "    distance = 1\n",
    "    alpha = np.count_nonzero(data == 0) / len(data) \n",
    "    l = 2\n",
    "\n",
    "    while distance > (1 / (N*10)): \n",
    "        r_zero = []\n",
    "        for i in range(len(data)):\n",
    "            if data[i]==0:\n",
    "                r_zero.append(alpha)\n",
    "            else:\n",
    "                geo = stats.geom.pmf(data[i],1/l)\n",
    "                r_zero.append(geo*(1-alpha))\n",
    "        r[0] = r_zero\n",
    "        # r[1] = pi[1] * stats.norm.pdf(x=data, loc=mu[0], scale=sigma[0]) \n",
    "        r = r / np.sum(r, axis=0) \n",
    "\n",
    "        # N_k = np.sum(r, axis=1)\n",
    "        r_sum = 0\n",
    "        for i in range(N):\n",
    "            if data[i] == 0:\n",
    "                r_sum += r[0][i]\n",
    "        alpha = r_sum / sum(r[0])\n",
    "        l_sum = 0\n",
    "        for i in range(N):\n",
    "            if data[i] != 0:\n",
    "                l_sum += data[i] * r[0][i]\n",
    "        l = l_sum / ((1-alpha)*sum(r[0]))\n",
    "        # mu[0] = (np.sum(r[1] * data)) / N_k[1]  \n",
    "        # numerator = r[1] * (data - mu[0])**2\n",
    "        # sigma[0] = np.sqrt(np.sum(numerator) / N_k[1]) \n",
    "        # pi = N_k/N\n",
    "\n",
    "        hurdle = np.where(X == 0, alpha, (1-alpha) * stats.geom.pmf(data,1/l))\n",
    "        # for j in range(N):\n",
    "        #     if data[j] != 0:\n",
    "        #         likelihood += pi[0]*(data[j]-1) * np.log(1-(1/l))\n",
    "        # likelihood += pi[1] * stats.norm.pdf(x=data, loc=mu[0], scale=sigma[0])\n",
    "        ll_list.append(np.sum(hurdle))\n",
    "        iteration += 1\n",
    "        if iteration > 1:\n",
    "            distance = dist(ll_list[-1],ll_list[-2])\n",
    "    if(show_plot):\n",
    "        plot_SVEM_q0(data, alpha, l, r, N,ax)\n",
    "    return alpha, l"
   ]
  },
  {
   "cell_type": "code",
   "execution_count": 121,
   "metadata": {},
   "outputs": [
    {
     "data": {
      "image/png": "[encoded data removed]",
      "text/plain": [
       "<Figure size 432x432 with 1 Axes>"
      ]
     },
     "metadata": {
      "needs_background": "light"
     },
     "output_type": "display_data"
    }
   ],
   "source": [
    "N = 1000\n",
    "alpha = 0.5\n",
    "l = 2\n",
    "\n",
    "X = [0 for _ in range(int(N*alpha))]\n",
    "X_l = stats.geom.rvs(1/l, size=(int(N*(1-alpha))))\n",
    "X.extend(X_l)\n",
    "\n",
    "X_g = np.random.normal(20, 5, 1000)\n",
    "X_g = [int(g) for g in X_g]\n",
    "X.extend(X_g)\n",
    "\n",
    "X_g2 = np.random.normal(40, 5, 1000)\n",
    "X_g2 = [int(g) for g in X_g2]\n",
    "X.extend(X_g2)\n",
    "\n",
    "fig, ax = plt.subplots(figsize = (6,6))\n",
    "\n",
    "ax.hist(X, bins = 25, alpha = 0.25)\n",
    "ax.set_yscale(\"log\")\n",
    "ax.set_ylim(bottom=1)\n",
    "ax.set_xlim(left=0)\n",
    "plt.xlabel('Evidence Depth')\n",
    "plt.ylabel('Number of Samples')\n",
    "\n",
    "alpha_q0, l_q0 = SV_Plot(np.array(X),ax, True)\n",
    "d, p_val = stats.kstest(stats.geom.cdf(X, 1/l), stats.geom.cdf(X, 1/l_q0))"
   ]
  },
  {
   "cell_type": "code",
   "execution_count": 122,
   "metadata": {},
   "outputs": [
    {
     "data": {
      "image/png": "[encoded data removed]",
      "text/plain": [
       "<Figure size 432x432 with 1 Axes>"
      ]
     },
     "metadata": {
      "needs_background": "light"
     },
     "output_type": "display_data"
    }
   ],
   "source": [
    "Y = [0 for _ in range(int(N*alpha_q0))]\n",
    "Y_l = stats.geom.rvs(1/l_q0, size=(int(N*(1-alpha_q0))))\n",
    "Y.extend(Y_l)\n",
    "\n",
    "fig, ax = plt.subplots(figsize = (6,6))\n",
    "\n",
    "ax.hist(Y, bins = 25, alpha = 0.25)\n",
    "ax.set_yscale(\"log\")\n",
    "ax.set_ylim(bottom=1)\n",
    "ax.set_xlim(left=0)\n",
    "plt.xlabel('Evidence Depth')\n",
    "plt.ylabel('Number of Samples')\n",
    "\n",
    "alpha_q0, l_q0 = SV_Plot(np.array(Y),ax, True)\n",
    "d, p_val = stats.kstest(stats.geom.cdf(Y, 1/l), stats.geom.cdf(Y, 1/l_q0))"
   ]
  },
  {
   "cell_type": "code",
   "execution_count": 123,
   "metadata": {},
   "outputs": [],
   "source": [
    "def SV_Plot(data): \n",
    "    def dist(a,b):\n",
    "        return np.abs(b - a)\n",
    "    N = len(data)\n",
    "    # f = np.ravel(data).astype(float)\n",
    "    # f=f.reshape(-1,1)\n",
    "    # kmeans = km(n_clusters=2)\n",
    "    # kmeans.fit(f)\n",
    "    # centers = np.sort(np.ravel(kmeans.cluster_centers_))\n",
    "    # mu = centers\n",
    "    # mu = np.delete(mu, 0)\n",
    "    # sigma = [np.std(data)]\n",
    "    # pi = np.ones(2) * (1.0/2) \n",
    "    r = np.zeros([1,N]) \n",
    "    ll_list = list()\n",
    "    iteration = 0\n",
    "    distance = 1\n",
    "    alpha = np.count_nonzero(data == 0) / len(data) \n",
    "    l = 2\n",
    "\n",
    "    while distance > (1 / (N*10)): \n",
    "        r_zero = []\n",
    "        for i in range(len(data)):\n",
    "            if data[i]==0:\n",
    "                r_zero.append(alpha)\n",
    "            else:\n",
    "                geo = stats.geom.pmf(data[i],1/l)\n",
    "                r_zero.append(geo*(1-alpha))\n",
    "        r[0] = r_zero\n",
    "        # r[1] = pi[1] * stats.norm.pdf(x=data, loc=mu[0], scale=sigma[0]) \n",
    "        r = r / np.sum(r, axis=0) \n",
    "\n",
    "        # N_k = np.sum(r, axis=1)\n",
    "        r_sum = 0\n",
    "        for i in range(N):\n",
    "            if data[i] == 0:\n",
    "                r_sum += r[0][i]\n",
    "        alpha = r_sum / sum(r[0])\n",
    "        l_sum = 0\n",
    "        for i in range(N):\n",
    "            if data[i] != 0:\n",
    "                l_sum += data[i] * r[0][i]\n",
    "        l = l_sum / ((1-alpha)*sum(r[0]))\n",
    "        # mu[0] = (np.sum(r[1] * data)) / N_k[1]  \n",
    "        # numerator = r[1] * (data - mu[0])**2\n",
    "        # sigma[0] = np.sqrt(np.sum(numerator) / N_k[1]) \n",
    "        # pi = N_k/N\n",
    "\n",
    "        hurdle = np.where(X == 0, alpha, (1-alpha) * stats.geom.pmf(data,1/l))\n",
    "        # for j in range(N):\n",
    "        #     if data[j] != 0:\n",
    "        #         likelihood += pi[0]*(data[j]-1) * np.log(1-(1/l))\n",
    "        # likelihood += pi[1] * stats.norm.pdf(x=data, loc=mu[0], scale=sigma[0])\n",
    "        ll_list.append(np.sum(hurdle))\n",
    "        iteration += 1\n",
    "        if iteration > 1:\n",
    "            distance = dist(ll_list[-1],ll_list[-2])\n",
    "    return alpha, l"
   ]
  },
  {
   "cell_type": "code",
   "execution_count": 124,
   "metadata": {},
   "outputs": [],
   "source": [
    "def refit_SVMM_q0(alpha_q0, l_q0):\n",
    "    Y = [0 for _ in range(int(N*alpha_q0))]\n",
    "    Y_l = stats.geom.rvs(1/l_q0, size=(int(N*(1-alpha_q0))))\n",
    "    Y.extend(Y_l)\n",
    "    return SV_Plot(np.array(Y))"
   ]
  },
  {
   "cell_type": "code",
   "execution_count": 136,
   "metadata": {},
   "outputs": [
    {
     "name": "stdout",
     "output_type": "stream",
     "text": [
      "0\n",
      "1\n",
      "2\n",
      "3\n",
      "4\n",
      "5\n",
      "6\n",
      "7\n",
      "8\n",
      "9\n",
      "10\n",
      "11\n",
      "12\n",
      "13\n",
      "14\n",
      "15\n",
      "16\n",
      "17\n",
      "18\n",
      "19\n",
      "20\n",
      "21\n",
      "22\n",
      "23\n",
      "24\n",
      "25\n",
      "26\n",
      "27\n",
      "28\n",
      "29\n",
      "30\n",
      "31\n",
      "32\n",
      "33\n",
      "34\n",
      "35\n",
      "36\n",
      "37\n",
      "38\n",
      "39\n",
      "40\n",
      "41\n",
      "42\n",
      "43\n",
      "44\n",
      "45\n",
      "46\n",
      "47\n",
      "48\n",
      "49\n",
      "50\n",
      "51\n",
      "52\n",
      "53\n",
      "54\n",
      "55\n",
      "56\n",
      "57\n",
      "58\n",
      "59\n",
      "60\n",
      "61\n",
      "62\n",
      "63\n",
      "64\n",
      "65\n",
      "66\n",
      "67\n",
      "68\n",
      "69\n",
      "70\n",
      "71\n",
      "72\n",
      "73\n",
      "74\n",
      "75\n",
      "76\n",
      "77\n",
      "78\n",
      "79\n",
      "80\n",
      "81\n",
      "82\n",
      "83\n",
      "84\n",
      "85\n",
      "86\n",
      "87\n",
      "88\n",
      "89\n",
      "90\n",
      "91\n",
      "92\n",
      "93\n",
      "94\n",
      "95\n",
      "96\n",
      "97\n",
      "98\n",
      "99\n"
     ]
    }
   ],
   "source": [
    "p_vals = []\n",
    "d_vals = []\n",
    "for i in range(1000):\n",
    "    alpha_new, l_new = refit_SVMM_q0(alpha_q0, l_q0)\n",
    "    d = stats.kstest(stats.geom.cdf(Y, 1/l_new), stats.geom.cdf(Y, 1/l)).pvalue\n",
    "    d_vals.append(d)\n",
    "    print(i)\n",
    "d_vals = np.mean(d_vals)"
   ]
  },
  {
   "cell_type": "code",
   "execution_count": 137,
   "metadata": {},
   "outputs": [
    {
     "name": "stdout",
     "output_type": "stream",
     "text": [
      "7.391040380201199e-154\n"
     ]
    }
   ],
   "source": [
    "print(d_vals)"
   ]
  },
  {
   "cell_type": "code",
   "execution_count": 7,
   "metadata": {},
   "outputs": [
    {
     "data": {
      "image/png": "[encoded data removed]",
      "text/plain": [
       "<Figure size 432x288 with 1 Axes>"
      ]
     },
     "metadata": {
      "needs_background": "light"
     },
     "output_type": "display_data"
    }
   ],
   "source": [
    "plt.hist(p_vals, 50)\n",
    "plt.xlabel('p-val')\n",
    "plt.ylabel('frequency')\n",
    "plt.show()"
   ]
  },
  {
   "attachments": {},
   "cell_type": "markdown",
   "metadata": {},
   "source": [
    "### Model Comparison"
   ]
  },
  {
   "cell_type": "code",
   "execution_count": 72,
   "metadata": {},
   "outputs": [],
   "source": [
    "def plot_SVEM_2mode(alpha,pi,l,mu,sigma,r,N):\n",
    "    if math.isnan(pi[0]):\n",
    "        X = [0 for _ in range(N)]\n",
    "    else:\n",
    "        X = [0 for _ in range(int(pi[0]*N*alpha))]\n",
    "        if alpha != 1:\n",
    "            X_l = stats.geom.rvs(1/l, size=(int(N*(1-alpha)*pi[0])))\n",
    "            X.extend(X_l)\n",
    "            X_g = np.random.normal(mu[0], sigma[0], int(pi[1]*N))\n",
    "            X_g = [int(g) for g in X_g]\n",
    "            X.extend(X_g)\n",
    "\n",
    "    hist_1, bin_edges_1 = np.histogram(X, bins=20, density=False)\n",
    "    bin_center_1 = (bin_edges_1[:-1] + bin_edges_1[1:])/2\n",
    "    fig, ax = plt.subplots(figsize = (6,6))\n",
    "\n",
    "    plt.hist(X, bins = 20, alpha = 0.25, rwidth = 1)   \n",
    "    plt.scatter(bin_center_1, hist_1, color = 'orange')\n",
    "    ax.set_yscale(\"log\")\n",
    "    ax.set_ylim(bottom=1)\n",
    "    ax.set_xlim(left=0)\n",
    "    plt.xlabel('Evidence Depth')\n",
    "    plt.ylabel('Number of Samples')\n",
    "    plt.show()\n",
    "    fig_1, ax_1 = plt.subplots(figsize = (6,6))\n",
    "    ax_1.set_yscale(\"log\")\n",
    "    plt.xlabel('Affinity')\n",
    "    plt.ylabel('Number of Samples')\n",
    "    plt.hist(r[0], alpha = 0.5)\n",
    "    plt.hist(r[1], alpha = 0.5)\n",
    "    plt.show()"
   ]
  },
  {
   "cell_type": "code",
   "execution_count": 76,
   "metadata": {},
   "outputs": [],
   "source": [
    "def plot_SVEM_3mode(alpha,pi,l,mu,sigma,r,N):\n",
    "    if math.isnan(pi[0]):\n",
    "        X = [0 for _ in range(N)]\n",
    "    else:\n",
    "        X = [0 for _ in range(int(pi[0]*N*alpha))]\n",
    "        if alpha != 1:\n",
    "            X_l = stats.geom.rvs(1/l, size=(int(N*(1-alpha)*pi[0])))\n",
    "            X.extend(X_l)\n",
    "            X_g = np.random.normal(mu[0], sigma[0], int(pi[1]*N))\n",
    "            X_g = [int(g) for g in X_g]\n",
    "            X.extend(X_g)\n",
    "            X_a = np.random.normal(mu[1], sigma[1], int(pi[2]*N))\n",
    "            X_a = [int(a) for a in X_a]\n",
    "            X.extend(X_a)\n",
    "\n",
    "    hist_1, bin_edges_1 = np.histogram(X, bins=30, density=False)\n",
    "    bin_center_1 = (bin_edges_1[:-1] + bin_edges_1[1:])/2\n",
    "    fig, ax = plt.subplots(figsize = (6,6))\n",
    "\n",
    "    plt.hist(X, bins = 20, alpha = 0.25, rwidth = 1)   \n",
    "    plt.scatter(bin_center_1, hist_1, color = 'orange')\n",
    "    ax.set_yscale(\"log\")\n",
    "    ax.set_ylim(bottom=1)\n",
    "    ax.set_xlim(left=0)\n",
    "    plt.xlabel('Evidence Depth')\n",
    "    plt.ylabel('Number of Samples')\n",
    "    plt.show()\n",
    "    fig_1, ax_1 = plt.subplots(figsize = (6,6))\n",
    "    ax_1.set_yscale(\"log\")\n",
    "    plt.xlabel('Affinity')\n",
    "    plt.ylabel('Number of Samples')\n",
    "    # TODO: move the plots side by side\n",
    "    plt.hist(r[0], alpha = 0.5, label = 'first mode') \n",
    "    plt.hist(r[1], alpha = 0.5, label = 'second mode')\n",
    "    plt.hist(r[2], alpha = 0.5, label = 'third mode')\n",
    "    plt.legend(loc=\"upper left\")\n",
    "    plt.show()"
   ]
  },
  {
   "cell_type": "code",
   "execution_count": 73,
   "metadata": {},
   "outputs": [],
   "source": [
    "def SVEM_2mode(data, plot_it): \n",
    "    def dist(a,b):\n",
    "        return np.abs(b - a)\n",
    "    N = len(data)\n",
    "    f = np.ravel(data).astype(float)\n",
    "    f=f.reshape(-1,1)\n",
    "    kmeans = km(n_clusters=2)\n",
    "    kmeans.fit(f)\n",
    "    centers = np.sort(np.ravel(kmeans.cluster_centers_))\n",
    "    mu = centers\n",
    "    mu = np.delete(mu, 0)\n",
    "    sigma = [np.std(data)]\n",
    "    pi = np.ones(2) * (1.0/2) \n",
    "    r = np.zeros([2,N]) \n",
    "    ll_list = list()\n",
    "    iteration = 0\n",
    "    distance = 1\n",
    "    alpha = np.count_nonzero(data == 0) / len(data) \n",
    "    l = 2\n",
    "\n",
    "    while distance > (1 / (N*10)): \n",
    "        r_zero = []\n",
    "        for i in range(len(data)):\n",
    "            if data[i]==0:\n",
    "                r_zero.append(alpha*pi[0])\n",
    "            else:\n",
    "                geo = stats.geom.pmf(data[i],1/l)\n",
    "                r_zero.append(geo*(1-alpha)*pi[0])\n",
    "                \n",
    "        r[0] = r_zero\n",
    "        r[1] = pi[1] * stats.norm.pdf(x=data, loc=mu[0], scale=sigma[0]) \n",
    "        for idx, r_i in enumerate(r[0]):\n",
    "            if r_i== 0:\n",
    "                r[0][idx] = 1e-10\n",
    "        for idx, r_i in enumerate(r[1]):\n",
    "            if r_i == 0 or math.isnan(r_i):\n",
    "                r[1][idx] = 1e-10\n",
    "        r = r / np.sum(r, axis=0) \n",
    "\n",
    "        N_k = np.sum(r, axis=1)\n",
    "        r_sum = 0\n",
    "        for i in range(N):\n",
    "            if data[i] == 0:\n",
    "                r_sum += r[0][i]\n",
    "        alpha = r_sum / sum(r[0])\n",
    "        l_sum = 0\n",
    "        for i in range(N):\n",
    "            if data[i] != 0:\n",
    "                l_sum += data[i] * r[0][i]\n",
    "        if alpha != 1:\n",
    "            l = l_sum / ((1-alpha)*sum(r[0]))\n",
    "        else:\n",
    "            l = 1e-3\n",
    "        mu[0] = (np.sum(r[1] * data)) / N_k[1]  \n",
    "        numerator = r[1] * (data - mu[0])**2\n",
    "        sigma[0] = np.sqrt(np.sum(numerator) / N_k[1]) \n",
    "        if sigma[0] < 0.01:\n",
    "            sigma[0] = 0.01\n",
    "        pi = N_k/N\n",
    "\n",
    "        likelihood = 0.0\n",
    "        if alpha != 0:\n",
    "            likelihood += pi[0] * np.count_nonzero(data == 0) * np.log(alpha)\n",
    "        if alpha != 1:\n",
    "            likelihood += pi[0] * np.count_nonzero(data) * (np.log(1-alpha) + np.log((1/l)))\n",
    "            for j in range(N):\n",
    "                if data[j] != 0:\n",
    "                    likelihood += pi[0]*(data[j]-1) * np.log(1-(1/l))\n",
    "            likelihood += pi[1] * stats.norm.pdf(x=data, loc=mu[0], scale=sigma[0])\n",
    "        ll_list.append(np.sum(likelihood))\n",
    "        iteration += 1\n",
    "        if iteration > 1:\n",
    "            distance = dist(ll_list[-1],ll_list[-2])\n",
    "    if(plot_it):\n",
    "        plot_SVEM_2mode(alpha,pi,l,mu,sigma,r,N)\n",
    "    return alpha, l, ll_list"
   ]
  },
  {
   "cell_type": "code",
   "execution_count": 131,
   "metadata": {},
   "outputs": [],
   "source": [
    "def SVEM_3mode(data,plot_it): \n",
    "    def dist(a,b):\n",
    "        return np.abs(b - a)\n",
    "    N = len(data)\n",
    "    f = np.ravel(data).astype(float)\n",
    "    f=f.reshape(-1,1)\n",
    "    kmeans = km(n_clusters=3)\n",
    "    kmeans.fit(f)\n",
    "    centers = np.sort(np.ravel(kmeans.cluster_centers_))\n",
    "    mu = centers\n",
    "    mu = np.delete(mu, 0)\n",
    "    sigma = [np.std(data), np.std(data)]\n",
    "    pi = np.ones(3) * (1.0/3) \n",
    "    r = np.zeros([3,N]) \n",
    "    ll_list = list()\n",
    "    iteration = 0\n",
    "    distance = 1\n",
    "    alpha = np.count_nonzero(data == 0) / len(data) \n",
    "    l = 2\n",
    "\n",
    "    while distance > (1 / (N*10)): \n",
    "        r_zero = []\n",
    "        for i in range(len(data)):\n",
    "            if data[i]==0:\n",
    "                r_zero.append(alpha*pi[0])\n",
    "            else:\n",
    "                geo = stats.geom.pmf(data[i],1/l)\n",
    "                r_zero.append(geo*(1-alpha)*pi[0])\n",
    "                \n",
    "        r[0] = r_zero\n",
    "        r[1] = pi[1] * stats.norm.pdf(x=data, loc=mu[0], scale=sigma[0])\n",
    "        r[2] = pi[2] * stats.norm.pdf(x=data, loc=mu[1], scale=sigma[1])\n",
    "\n",
    "        # TODO: condense this to one for-loop\n",
    "        for idx, r_i in enumerate(r[0]):\n",
    "            if r_i== 0:\n",
    "                r_i[idx] = 1e-10\n",
    "        for idx, r_i in enumerate(r[1]):\n",
    "            if r_i == 0 or math.isnan(r_i):\n",
    "                r[1][idx] = 1e-10\n",
    "        for idx, r_i in enumerate(r[2]):\n",
    "            if r_i == 0 or math.isnan(r_i):\n",
    "                r[2][idx] = 1e-10\n",
    "        r = r / np.sum(r, axis=0) \n",
    "\n",
    "        N_k = np.sum(r, axis=1)\n",
    "        r_sum = 0\n",
    "        for i in range(N):\n",
    "            if data[i] == 0:\n",
    "                r_sum += r[0][i]\n",
    "        alpha = r_sum / sum(r[0])\n",
    "        l_sum = 0\n",
    "        for i in range(N):\n",
    "            if data[i] != 0:\n",
    "                l_sum += data[i] * r[0][i]\n",
    "        if alpha != 1:\n",
    "            l = l_sum / ((1-alpha)*sum(r[0]))\n",
    "        else:\n",
    "            l = 1e-3\n",
    "        # TODO: condense into one for-loop\n",
    "        mu[0] = (np.sum(r[1] * data)) / N_k[1]  \n",
    "        numerator = r[1] * (data - mu[0])**2\n",
    "        sigma[0] = np.sqrt(np.sum(numerator) / N_k[1]) \n",
    "        if sigma[0] < 0.01:\n",
    "            sigma[0] = 0.01\n",
    "        mu[1] = (np.sum(r[2] * data)) / N_k[2]  \n",
    "        numerator = r[2] * (data - mu[1])**2\n",
    "        sigma[1] = np.sqrt(np.sum(numerator) / N_k[2]) \n",
    "        if sigma[1] < 0.01:\n",
    "            sigma[1] = 0.01\n",
    "        pi = N_k/N\n",
    "\n",
    "        likelihood = 0.0\n",
    "        if alpha != 0:\n",
    "            likelihood += pi[0] * np.count_nonzero(data == 0) * np.log(alpha)\n",
    "        if alpha != 1:\n",
    "            likelihood += pi[0] * np.count_nonzero(data) * (np.log(1-alpha) + np.log((1/l)))\n",
    "            for j in range(N):\n",
    "                if data[j] != 0:\n",
    "                    likelihood += pi[0]*(data[j]-1) * np.log(1-(1/l))\n",
    "            likelihood += pi[1] * stats.norm.pdf(x=data, loc=mu[0], scale=sigma[0])\n",
    "            likelihood += pi[2] * stats.norm.pdf(x=data, loc=mu[1], scale=sigma[1])\n",
    "        ll_list.append(np.sum(likelihood))\n",
    "        iteration += 1\n",
    "        if iteration > 1:\n",
    "            distance = dist(ll_list[-1],ll_list[-2])\n",
    "    \n",
    "    if(plot_it):\n",
    "        plot_SVEM_3mode(alpha,pi,l,mu,sigma,r,N)\n",
    "    return alpha, l, ll_list"
   ]
  },
  {
   "cell_type": "code",
   "execution_count": 132,
   "metadata": {},
   "outputs": [
    {
     "ename": "KeyboardInterrupt",
     "evalue": "",
     "output_type": "error",
     "traceback": [
      "\u001b[0;31m---------------------------------------------------------------------------\u001b[0m",
      "\u001b[0;31mKeyboardInterrupt\u001b[0m                         Traceback (most recent call last)",
      "\u001b[1;32m/Users/behzod/Downloads/research/mod_nb/svmm_em.ipynb Cell 28\u001b[0m in \u001b[0;36m<module>\u001b[0;34m\u001b[0m\n\u001b[1;32m     <a href='vscode-notebook-cell:/Users/behzod/Downloads/research/mod_nb/svmm_em.ipynb#X41sZmlsZQ%3D%3D?line=10'>11</a>\u001b[0m X\u001b[39m.\u001b[39mextend(X_g)\n\u001b[1;32m     <a href='vscode-notebook-cell:/Users/behzod/Downloads/research/mod_nb/svmm_em.ipynb#X41sZmlsZQ%3D%3D?line=12'>13</a>\u001b[0m alpha_2mode, l_2mode, ll_2mode \u001b[39m=\u001b[39m SVEM_2mode(np\u001b[39m.\u001b[39marray(X), \u001b[39mFalse\u001b[39;00m)\n\u001b[0;32m---> <a href='vscode-notebook-cell:/Users/behzod/Downloads/research/mod_nb/svmm_em.ipynb#X41sZmlsZQ%3D%3D?line=13'>14</a>\u001b[0m alpha_3mode, l_3mode, ll_3mode \u001b[39m=\u001b[39m SVEM_3mode(np\u001b[39m.\u001b[39;49marray(X), \u001b[39mFalse\u001b[39;49;00m)\n",
      "\u001b[1;32m/Users/behzod/Downloads/research/mod_nb/svmm_em.ipynb Cell 28\u001b[0m in \u001b[0;36mSVEM_3mode\u001b[0;34m(data, plot_it)\u001b[0m\n\u001b[1;32m     <a href='vscode-notebook-cell:/Users/behzod/Downloads/research/mod_nb/svmm_em.ipynb#X41sZmlsZQ%3D%3D?line=24'>25</a>\u001b[0m         r_zero\u001b[39m.\u001b[39mappend(rhat\u001b[39m*\u001b[39mpi[\u001b[39m0\u001b[39m])\n\u001b[1;32m     <a href='vscode-notebook-cell:/Users/behzod/Downloads/research/mod_nb/svmm_em.ipynb#X41sZmlsZQ%3D%3D?line=25'>26</a>\u001b[0m     \u001b[39melse\u001b[39;00m:\n\u001b[0;32m---> <a href='vscode-notebook-cell:/Users/behzod/Downloads/research/mod_nb/svmm_em.ipynb#X41sZmlsZQ%3D%3D?line=26'>27</a>\u001b[0m         geo \u001b[39m=\u001b[39m stats\u001b[39m.\u001b[39;49mgeom\u001b[39m.\u001b[39;49mpmf(data[i],\u001b[39m1\u001b[39;49m\u001b[39m/\u001b[39;49ml)\n\u001b[1;32m     <a href='vscode-notebook-cell:/Users/behzod/Downloads/research/mod_nb/svmm_em.ipynb#X41sZmlsZQ%3D%3D?line=27'>28</a>\u001b[0m         r_zero\u001b[39m.\u001b[39mappend(geo\u001b[39m*\u001b[39m(\u001b[39m1\u001b[39m\u001b[39m-\u001b[39mrhat)\u001b[39m*\u001b[39mpi[\u001b[39m0\u001b[39m])\n\u001b[1;32m     <a href='vscode-notebook-cell:/Users/behzod/Downloads/research/mod_nb/svmm_em.ipynb#X41sZmlsZQ%3D%3D?line=29'>30</a>\u001b[0m r[\u001b[39m0\u001b[39m] \u001b[39m=\u001b[39m r_zero\n",
      "File \u001b[0;32m~/opt/anaconda3/lib/python3.8/site-packages/scipy/stats/_distn_infrastructure.py:3109\u001b[0m, in \u001b[0;36mrv_discrete.pmf\u001b[0;34m(self, k, *args, **kwds)\u001b[0m\n\u001b[1;32m   3107\u001b[0m cond \u001b[39m=\u001b[39m cond0 \u001b[39m&\u001b[39m cond1\n\u001b[1;32m   3108\u001b[0m output \u001b[39m=\u001b[39m zeros(shape(cond), \u001b[39m'\u001b[39m\u001b[39md\u001b[39m\u001b[39m'\u001b[39m)\n\u001b[0;32m-> 3109\u001b[0m place(output, (\u001b[39m1\u001b[39;49m\u001b[39m-\u001b[39;49mcond0) \u001b[39m+\u001b[39;49m np\u001b[39m.\u001b[39;49misnan(k), \u001b[39mself\u001b[39m\u001b[39m.\u001b[39mbadvalue)\n\u001b[1;32m   3110\u001b[0m \u001b[39mif\u001b[39;00m np\u001b[39m.\u001b[39many(cond):\n\u001b[1;32m   3111\u001b[0m     goodargs \u001b[39m=\u001b[39m argsreduce(cond, \u001b[39m*\u001b[39m((k,)\u001b[39m+\u001b[39margs))\n",
      "\u001b[0;31mKeyboardInterrupt\u001b[0m: "
     ]
    }
   ],
   "source": [
    "N = 1000\n",
    "a = 0.5\n",
    "l = 2\n",
    "\n",
    "X = [0 for _ in range(int(N*a))]\n",
    "X_l = stats.geom.rvs(1/l, size=(int(N*(1-a))))\n",
    "\n",
    "X.extend(X_l)\n",
    "X_g = np.random.normal(30, 5, 1000)\n",
    "X_g = [int(g) for g in X_g]\n",
    "X.extend(X_g)\n",
    "\n",
    "alpha_2mode, l_2mode, ll_2mode = SVEM_2mode(np.array(X), False)\n",
    "alpha_3mode, l_3mode, ll_3mode = SVEM_3mode(np.array(X), False)\n",
    "\n",
    "# verify that in the case of the nested model, that the likelihoods are close together\n",
    "# look into VC dimensions on free time"
   ]
  },
  {
   "cell_type": "code",
   "execution_count": 10,
   "metadata": {},
   "outputs": [],
   "source": [
    "def plot_SVMM_2mode(X, n, pi, alpha, lambda_, mu, sigma):\n",
    "    ax = plt.subplots(figsize = (6,6))[1]\n",
    "    plt.hist(X, alpha = 0.5, bins = 20) # plot histogram of input data set\n",
    "\n",
    "    X_hurdle = [0 for _ in range(n)]\n",
    "    X_hurdle = [0 for _ in range(int(pi[0] * n * alpha))] # generate zeros based on estimated parameters\n",
    "    X_hurdle.extend(geom.rvs(1/lambda_, size = int(n * (1-alpha) * pi[0]))) # generate geometric based on estimated parameters\n",
    "    hist_hurdle, bin_hurdle = np.histogram(X_hurdle, bins = 30) # derive points and bin edges in histogram form\n",
    "    plt.scatter(0.5 * (bin_hurdle[1:] + bin_hurdle[:-1]), hist_hurdle, color = 'orange') # plot points against bin centers\n",
    "\n",
    "    X_normal1 = norm.rvs(mu, sigma, size = int(pi[1] * n)) # generate normal based on estimated parameters\n",
    "    hist_normal1, bin_normal1 = np.histogram(X_normal1, 30) # derive points and bin edges in histogram form\n",
    "    plt.scatter(0.5 * (bin_normal1[1:] + bin_normal1[:-1]), hist_normal1, color = 'green') # plot points against bin centers\n",
    "\n",
    "    ax.set_yscale(\"log\") \n",
    "    ax.set_ylim(bottom=1)\n",
    "    ax.set_xlim(left=0)\n",
    "    plt.xlabel('Evidence Depth')\n",
    "    plt.ylabel('Number of Samples')\n",
    "    plt.show()\n",
    "\n",
    "def SVMM_2mode(X, show_plot, show_distance):\n",
    "\n",
    "    # TODO: fine-tune initial paramters, put in separate function\n",
    "    # initial values for parameters\n",
    "    n = np.shape(X)[0] # length of data set\n",
    "    pi = [1.0/2 for _ in range(2)] # mixing coefficients\n",
    "    r = np.zeros([2,n]) # responsibility matrix\n",
    "    alpha = np.sum(X == 0) / n # probability of an observation belonging to zero component\n",
    "    lambda_ = n / np.sum(X != 0) # expected value of the geometric distribution\n",
    "    sigma = np.std(X) # standard deviation for normal distribution\n",
    "    mu = np.mean(X) # mean for normal distribution \n",
    "    log_likelihoods = [] \n",
    "    iteration = 0\n",
    "    distance = 1\n",
    "\n",
    "    while distance > (1/(n*10)): # convergence criterion\n",
    "\n",
    "        # expectation\n",
    "        r[0][X==0] = pi[0] * alpha # responsibility of zero values to first mode\n",
    "        r[0][X!=0] = pi[0] * (1-alpha) * geom.pmf(X[X!=0], 1/lambda_) # responsibility of nonzero values to first component\n",
    "        r[1] = pi[1] * norm.pdf(X, mu, sigma) # responsibility of each value to second component\n",
    "        r = r / np.sum(r, axis = 0) # normalization\n",
    "\n",
    "        # maximization\n",
    "        pi = np.sum(r, axis = 1) / n # total responsibility of a component divided by total # of observations\n",
    "        alpha = np.sum(r[0][X==0]) / np.sum(r[0]) # MLE for \n",
    "        lambda_ = np.dot(X[X != 0], r[0][X != 0]) / ((1-alpha)*np.sum(r[0])) # reciprocal of MLE for p in geometric distribution\n",
    "        mu = np.average(X, weights = r[1]) # MLE for mean in normal distribution\n",
    "        sigma = np.average((X-mu)**2, weights=r[1])**.5 # MLE for standard deviation in normal distribution\n",
    "\n",
    "        # score\n",
    "        hurdle = np.where(X == 0, pi[0] * alpha, pi[0] * (1-alpha) * geom.pmf(X,1/lambda_)) #  likelihood of each observation in hurdle model\n",
    "        gmm = pi[1] * norm.pdf(X, mu, sigma) # likelihood of each observation in normal distribution\n",
    "        log_likelihood = np.sum(np.log(hurdle + gmm)) # sum of log of likelihood of each observation\n",
    "        log_likelihoods.append(log_likelihood) \n",
    "\n",
    "        iteration += 1\n",
    "        if iteration > 1:\n",
    "            distance = np.abs(log_likelihoods[-2]-log_likelihoods[-1]) # magnitude of difference between each \n",
    "            if(show_distance):\n",
    "                print(distance)\n",
    "\n",
    "    if(show_plot):\n",
    "        plot_SVMM_2mode(X, n, pi, alpha, lambda_, mu, sigma)\n",
    "\n",
    "    return pi, alpha, lambda_, mu, sigma, log_likelihoods"
   ]
  },
  {
   "cell_type": "code",
   "execution_count": 1,
   "metadata": {},
   "outputs": [],
   "source": [
    "def plot_SVMM_3mode(X, n, pi, alpha, lambda_, mu, sigma):\n",
    "    ax = plt.subplots(figsize = (6,6))[1]\n",
    "    plt.hist(X, alpha = 0.5, bins = 20) # plot histogram of input data set\n",
    "\n",
    "    X_hurdle = [0 for _ in range(n)]\n",
    "    X_hurdle = [0 for _ in range(int(pi[0] * n * alpha))] # generate zeros based on estimated parameters\n",
    "    X_hurdle.extend(geom.rvs(1/lambda_, size = int(n * (1-alpha) * pi[0]))) # generate geometric based on estimated parameters\n",
    "    hist_hurdle, bin_hurdle = np.histogram(X_hurdle, bins = 30) # derive points and bin edges in histogram form\n",
    "    plt.scatter(0.5 * (bin_hurdle[1:] + bin_hurdle[:-1]), hist_hurdle, color = 'orange') # plot points against bin centers\n",
    "\n",
    "    X_normal1 = norm.rvs(mu[0], sigma[0], size = int(pi[1] * n)) # generate normal based on estimated parameters\n",
    "    hist_normal1, bin_normal1 = np.histogram(X_normal1, 30) # derive points and bin edges in histogram form\n",
    "    plt.scatter(0.5 * (bin_normal1[1:] + bin_normal1[:-1]), hist_normal1, color = 'green') # plot points against bin centers\n",
    "\n",
    "    X_normal2 = norm.rvs(mu[1], sigma[1], size = int(pi[2] * n)) # generate normal based on estimated parameters\n",
    "    hist_normal2, bin_normal2 = np.histogram(X_normal2, 30) # derive points and bin edges in histogram form\n",
    "    plt.scatter(0.5 * (bin_normal2[1:] + bin_normal2[:-1]), hist_normal2, color = 'purple') # plot points against bin centers\n",
    "\n",
    "    ax.set_yscale(\"log\") \n",
    "    ax.set_ylim(bottom=1)\n",
    "    ax.set_xlim(left=0)\n",
    "    plt.xlabel('Evidence Depth')\n",
    "    plt.ylabel('Number of Samples')\n",
    "    plt.show()\n",
    "\n",
    "def SVMM_3mode(X, show_plot, show_distance):\n",
    "\n",
    "    # TODO: fine-tune initial paramters, put in separate function\n",
    "    # initial values for parameters\n",
    "    n = np.shape(X)[0] # length of data set\n",
    "    pi = [1.0/3 for _ in range(3)] # mixing coefficients\n",
    "    r = np.zeros([3,n]) # responsibility matrix\n",
    "    alpha = np.sum(X == 0) / n # probability of an observation belonging to zero component\n",
    "    lambda_ = n / np.sum(X != 0) # expected value of the geometric distribution\n",
    "    sigma = [np.std(X), np.std(X)] # standard deviation for normal distribution\n",
    "    f = np.ravel(X).astype(float)\n",
    "    f=f.reshape(-1,1)\n",
    "    kmeans = km(n_clusters=3)\n",
    "    kmeans.fit(f)\n",
    "    centers = np.sort(np.ravel(kmeans.cluster_centers_))\n",
    "    mu = centers\n",
    "    mu = np.delete(mu, 0)\n",
    "    log_likelihoods = [] \n",
    "    iteration = 0\n",
    "    distance = 1\n",
    "\n",
    "    while distance > (1/(n*10)): # convergence criterion\n",
    "\n",
    "        # expectation\n",
    "        r[0][X==0] = pi[0] * alpha # responsibility of zero values to first mode\n",
    "        r[0][X!=0] = pi[0] * (1-alpha) * geom.pmf(X[X!=0], 1/lambda_) # responsibility of nonzero values to first component\n",
    "        r[1] = pi[1] * norm.pdf(X, mu[0], sigma[0]) # responsibility of each value to second component\n",
    "        r[2] = pi[2] * norm.pdf(X, mu[1], sigma[1]) # responsibility of each value to second component\n",
    "        r = r / np.sum(r, axis = 0) # normalization\n",
    "\n",
    "        # maximization\n",
    "        pi = np.sum(r, axis = 1) / n # total responsibility of a component divided by total # of observations\n",
    "        alpha = np.sum(r[0][X==0]) / np.sum(r[0]) # MLE for \n",
    "        lambda_ = np.dot(X[X != 0], r[0][X != 0]) / ((1-alpha)*np.sum(r[0])) # reciprocal of MLE for p in geometric distribution\n",
    "        mu[0] = np.average(X, weights = r[1]) # MLE for mean in normal distribution\n",
    "        mu[1] = np.average(X, weights = r[2]) # MLE for mean in normal distribution\n",
    "        sigma[0] = np.average((X-mu[0])**2, weights=r[1])**.5 # MLE for standard deviation in normal distribution\n",
    "        sigma[1] = np.average((X-mu[1])**2, weights=r[2])**.5 # MLE for standard deviation in normal distribution\n",
    "\n",
    "        # score\n",
    "        hurdle = np.where(X == 0, pi[0] * alpha, pi[0] * (1-alpha) * geom.pmf(X,1/lambda_)) #  likelihood of each observation in hurdle model\n",
    "        gmm = pi[1] * norm.pdf(X, mu[0], sigma[0]) +  pi[2] * norm.pdf(X, mu[1], sigma[1])# likelihood of each observation in normal distribution\n",
    "        log_likelihood = np.sum(np.log(hurdle + gmm)) # sum of log of likelihood of each observation\n",
    "        log_likelihoods.append(log_likelihood) \n",
    "\n",
    "        iteration += 1\n",
    "        if iteration > 1:\n",
    "            distance = np.abs(log_likelihoods[-2]-log_likelihoods[-1]) # magnitude of difference between each \n",
    "            if(show_distance):\n",
    "                print(distance)\n",
    "\n",
    "    if(show_plot):\n",
    "        plot_SVMM_3mode(X, n, pi, alpha, lambda_, mu, sigma)\n",
    "\n",
    "    return pi, alpha, lambda_, mu, sigma, log_likelihoods"
   ]
  },
  {
   "cell_type": "code",
   "execution_count": 12,
   "metadata": {},
   "outputs": [],
   "source": [
    "def AIC(ll, k):\n",
    "    return (2 * (2*k*(k-1))) - (2 * ll)"
   ]
  },
  {
   "cell_type": "code",
   "execution_count": 13,
   "metadata": {},
   "outputs": [],
   "source": [
    "def BIC(ll, k, n):\n",
    "    return ((2*k*(k-1) * np.log(n)) -(2 * ll))"
   ]
  },
  {
   "cell_type": "code",
   "execution_count": 14,
   "metadata": {},
   "outputs": [],
   "source": [
    "def MDL(ll, k, n): # 2-mode: lambda, alpha, mu, sigma, pi ; 3-mode: lambda, alpha, mu, sigma2, sigma3, pi1, pi2 \n",
    "    return -ll + (0.5 * np.log(n) * (2*(k-1))+3)"
   ]
  },
  {
   "cell_type": "code",
   "execution_count": 9,
   "metadata": {},
   "outputs": [],
   "source": [
    "N = 1000\n",
    "a = 0.5\n",
    "l = 2\n",
    "\n",
    "X = [0 for _ in range(int(N*a))]\n",
    "X_l = stats.geom.rvs(1/l, size=(int(N*(1-a))))\n",
    "X.extend(X_l)\n",
    "\n",
    "X_g = np.random.normal(30, 5, 1000)\n",
    "X_g = [int(g) for g in X_g]\n",
    "X.extend(X_g)\n",
    "\n",
    "X_g = np.random.normal(60, 5, 1000)\n",
    "X_g = [int(g) for g in X_g]\n",
    "X.extend(X_g)\n",
    "\n",
    "X = np.array(X)"
   ]
  },
  {
   "cell_type": "code",
   "execution_count": 10,
   "metadata": {},
   "outputs": [
    {
     "data": {
      "image/png": "[encoded data removed]",
      "text/plain": [
       "<Figure size 432x432 with 1 Axes>"
      ]
     },
     "metadata": {
      "needs_background": "light"
     },
     "output_type": "display_data"
    }
   ],
   "source": [
    "#pi, alpha, lambda_, mu, sigma, log_likelihoods_2 = SVMM_2mode(X, False, False)\n",
    "pi, alpha, lambda_, mu, sigma, log_likelihoods_3 = SVMM_3mode(X, True, False)"
   ]
  },
  {
   "cell_type": "code",
   "execution_count": 23,
   "metadata": {},
   "outputs": [
    {
     "name": "stdout",
     "output_type": "stream",
     "text": [
      "11658.842151336608 11716.087039639722\n"
     ]
    }
   ],
   "source": [
    "BIC_2mode = BIC(log_likelihoods_2[-1], 2, len(X))\n",
    "BIC_3mode = BIC(log_likelihoods_3[-1], 3, len(X))\n",
    "print(BIC_2mode, BIC_3mode)"
   ]
  },
  {
   "cell_type": "code",
   "execution_count": 25,
   "metadata": {},
   "outputs": [
    {
     "name": "stdout",
     "output_type": "stream",
     "text": [
      "16003628.438541498 16003624.876210125\n"
     ]
    }
   ],
   "source": [
    "AIC_2mode = AIC(log_likelihoods_2[-1], len(X))\n",
    "AIC_3mode = AIC(log_likelihoods_3[-1], len(X))\n",
    "print(AIC_2mode, AIC_3mode)"
   ]
  },
  {
   "cell_type": "code",
   "execution_count": 26,
   "metadata": {},
   "outputs": [
    {
     "name": "stdout",
     "output_type": "stream",
     "text": [
      "5829.421075668304 5858.043519819861\n"
     ]
    }
   ],
   "source": [
    "MDL_2mode = MDL(log_likelihoods_2[-1], 2, len(X))\n",
    "MDL_3mode = MDL(log_likelihoods_3[-1], 3, len(X))\n",
    "print(MDL_2mode, MDL_3mode)"
   ]
  }
 ],
 "metadata": {
  "kernelspec": {
   "display_name": "Python 3.8.8 ('base')",
   "language": "python",
   "name": "python3"
  },
  "language_info": {
   "codemirror_mode": {
    "name": "ipython",
    "version": 3
   },
   "file_extension": ".py",
   "mimetype": "text/x-python",
   "name": "python",
   "nbconvert_exporter": "python",
   "pygments_lexer": "ipython3",
   "version": "3.8.8"
  },
  "orig_nbformat": 4,
  "vscode": {
   "interpreter": {
    "hash": "eb338131652af2af4e32fcae28ca71a8c5933e99ff0250c2cadd842be7df9cb3"
   }
  }
 },
 "nbformat": 4,
 "nbformat_minor": 2
}
